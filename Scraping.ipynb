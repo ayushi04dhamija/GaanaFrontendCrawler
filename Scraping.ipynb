{
 "cells": [
  {
   "cell_type": "code",
   "execution_count": null,
   "metadata": {},
   "outputs": [],
   "source": [
    "from bs4 import BeautifulSoup as soup"
   ]
  },
  {
   "cell_type": "code",
   "execution_count": null,
   "metadata": {},
   "outputs": [],
   "source": [
    "from urllib.request import urlopen as uReq"
   ]
  },
  {
   "cell_type": "code",
   "execution_count": null,
   "metadata": {},
   "outputs": [],
   "source": [
    "my_url =\":https://gaana.com/playlist/gaana-dj-gaana-international-top-50\""
   ]
  },
  {
   "cell_type": "code",
   "execution_count": null,
   "metadata": {},
   "outputs": [],
   "source": [
    "uClient = uReq(my_url)"
   ]
  },
  {
   "cell_type": "code",
   "execution_count": null,
   "metadata": {},
   "outputs": [],
   "source": [
    "page_html = uClient.read()"
   ]
  },
  {
   "cell_type": "code",
   "execution_count": null,
   "metadata": {},
   "outputs": [],
   "source": [
    "uClient.close()"
   ]
  },
  {
   "cell_type": "code",
   "execution_count": null,
   "metadata": {},
   "outputs": [],
   "source": [
    "page_soup = soup(page_html,\"html.parser\")"
   ]
  },
  {
   "cell_type": "code",
   "execution_count": null,
   "metadata": {},
   "outputs": [],
   "source": [
    "containers = page_soup.findAll(\"span\")"
   ]
  },
  {
   "cell_type": "code",
   "execution_count": null,
   "metadata": {},
   "outputs": [],
   "source": [
    "print(len(containers))"
   ]
  },
  {
   "cell_type": "code",
   "execution_count": null,
   "metadata": {},
   "outputs": [],
   "source": [
    "print(soup.prettify(containers[100]))"
   ]
  },
  {
   "cell_type": "code",
   "execution_count": 1212,
   "metadata": {},
   "outputs": [],
   "source": [
    "#for container in containers:\n",
    " #   song_name = container.findAll(\"span\",{\"class\":\"_na parentnode sourcelist_9223365\"})\n",
    "    "
   ]
  },
  {
   "cell_type": "code",
   "execution_count": 1213,
   "metadata": {},
   "outputs": [],
   "source": [
    "#containers = page_soup.findAll(\"svg\")"
   ]
  },
  {
   "cell_type": "code",
   "execution_count": 1214,
   "metadata": {},
   "outputs": [],
   "source": [
    "#print(len(containers))"
   ]
  },
  {
   "cell_type": "code",
   "execution_count": 1215,
   "metadata": {},
   "outputs": [
    {
     "name": "stdout",
     "output_type": "stream",
     "text": [
      "<span>\n",
      " |\n",
      "</span>\n",
      "\n"
     ]
    }
   ],
   "source": [
    "print(soup.prettify(containers[100]))"
   ]
  },
  {
   "cell_type": "code",
   "execution_count": 1216,
   "metadata": {},
   "outputs": [],
   "source": [
    "containers = page_soup.findAll(\"span\")"
   ]
  },
  {
   "cell_type": "code",
   "execution_count": 1217,
   "metadata": {},
   "outputs": [
    {
     "name": "stdout",
     "output_type": "stream",
     "text": [
      "<span>\n",
      " |\n",
      "</span>\n",
      "\n"
     ]
    }
   ],
   "source": [
    "print(soup.prettify(containers[100]))"
   ]
  },
  {
   "cell_type": "code",
   "execution_count": 1218,
   "metadata": {},
   "outputs": [],
   "source": [
    "results = page_soup.findAll(\"span\",class_=\"_na\")"
   ]
  },
  {
   "cell_type": "code",
   "execution_count": 1219,
   "metadata": {},
   "outputs": [
    {
     "name": "stdout",
     "output_type": "stream",
     "text": [
      "[<span class=\"_na\" id=\"parent-row-playlist19993101\" style=\"display:none\">{\"id\":\"19993101\",\"title\":\"Ek Rang Ishq Ka Season-3\",\"index\":0,\"source\":3,\"source_id\":\"19993101\",\"content_source\":\"\",\"path\":\"\",\"objtype\":3,\"trackcount\":\"23582510,23611305,23645749,23770780,23811756,23828109,23861973,23916655,23959397,23977650,24003028,24045005,24085910\",\"track_ids\":null,\"object_type\":3,\"status\":\"0\",\"share_url\":\"\\/playlist\\/gaana-dj-ek-rang-ishq-ka-season-3\",\"albumartwork_large\":\"https:\\/\\/a10.gaanacdn.com\\/images\\/playlists\\/1\\/19993101\\/crop_80x80_19993101_1538809302.jpg\",\"albumartwork\":\"https:\\/\\/a10.gaanacdn.com\\/images\\/playlists\\/1\\/19993101\\/crop_80x80_19993101_1538809302.jpg\",\"premium_content\":\"0\",\"albumtitle\":null,\"albumseokey\":null,\"parental_warning\":0,\"artist\":\"\",\"seokey\":\"gaana-dj-ek-rang-ishq-ka-season-3\",\"language\":\"Hindi\",\"isSponsored\":0,\"isAv_ad\":0,\"duration\":0}</span>, <span class=\"_na\" id=\"parent-row-playlist20345738\" style=\"display:none\">{\"id\":\"20345738\",\"title\":\"Luv Shuv Etc with Sunny S\",\"index\":0,\"source\":3,\"source_id\":\"20345738\",\"content_source\":\"\",\"path\":\"\",\"objtype\":3,\"trackcount\":\"23633272,23766590,23802394,23826064,23855981,23907651,23950479,23976511,23998450,24031372,24075811,24106245,24137639,24159309,24196562,24228843,24254381,24277304,24305321,24333419,24352155,24371126,24412559,24482295,24550213\",\"track_ids\":null,\"object_type\":3,\"status\":\"0\",\"share_url\":\"\\/playlist\\/gaana-dj-luv-shuv-etc-with-sunny-s\",\"albumartwork_large\":\"https:\\/\\/a10.gaanacdn.com\\/images\\/playlists\\/38\\/20345738\\/crop_80x80_1557995017_20345738.jpg\",\"albumartwork\":\"https:\\/\\/a10.gaanacdn.com\\/images\\/playlists\\/38\\/20345738\\/crop_80x80_1557995017_20345738.jpg\",\"premium_content\":\"0\",\"albumtitle\":null,\"albumseokey\":null,\"parental_warning\":0,\"artist\":\"\",\"seokey\":\"gaana-dj-luv-shuv-etc-with-sunny-s\",\"language\":\"Hindi\",\"isSponsored\":0,\"isAv_ad\":0,\"duration\":0}</span>, <span class=\"_na\" id=\"parent-row-playlist16793989\" style=\"display:none\">{\"id\":\"16793989\",\"title\":\"Ek Rang Ishq Ka Season-2\",\"index\":0,\"source\":3,\"source_id\":\"16793989\",\"content_source\":\"\",\"path\":\"\",\"objtype\":3,\"trackcount\":\"22992050,22996392,23034502,23062208,23077992,23109256,23134314,23164146,23188719,23232097,23262154,23344191,23397490\",\"track_ids\":null,\"object_type\":3,\"status\":\"0\",\"share_url\":\"\\/playlist\\/gaana-dj-ek-rang-ishq-ka-season-2\",\"albumartwork_large\":\"https:\\/\\/a10.gaanacdn.com\\/images\\/playlists\\/89\\/16793989\\/crop_80x80_16793989_1524839588.jpg\",\"albumartwork\":\"https:\\/\\/a10.gaanacdn.com\\/images\\/playlists\\/89\\/16793989\\/crop_80x80_16793989_1524839588.jpg\",\"premium_content\":\"0\",\"albumtitle\":null,\"albumseokey\":null,\"parental_warning\":0,\"artist\":\"\",\"seokey\":\"gaana-dj-ek-rang-ishq-ka-season-2\",\"language\":\"Hindi\",\"isSponsored\":0,\"isAv_ad\":0,\"duration\":0}</span>, <span class=\"_na\" id=\"parent-row-playlist14194747\" style=\"display:none\">{\"id\":\"14194747\",\"title\":\"EK Rang Ishq Ka\",\"index\":0,\"source\":3,\"source_id\":\"14194747\",\"content_source\":\"\",\"path\":\"\",\"objtype\":3,\"trackcount\":\"22594888,22623822,22631539,22668815,22706251,22729988,22790245,22810324,22831982,22852483,22883094,22907654,22929914\",\"track_ids\":null,\"object_type\":3,\"status\":\"0\",\"share_url\":\"\\/playlist\\/gaana-dj-ek-rang-ishq-ka\",\"albumartwork_large\":\"https:\\/\\/a10.gaanacdn.com\\/images\\/playlists\\/47\\/14194747\\/crop_80x80_14194747_1541239447.jpg\",\"albumartwork\":\"https:\\/\\/a10.gaanacdn.com\\/images\\/playlists\\/47\\/14194747\\/crop_80x80_14194747_1541239447.jpg\",\"premium_content\":\"0\",\"albumtitle\":null,\"albumseokey\":null,\"parental_warning\":0,\"artist\":\"\",\"seokey\":\"gaana-dj-ek-rang-ishq-ka\",\"language\":\"Hindi\",\"isSponsored\":0,\"isAv_ad\":0,\"duration\":0}</span>, <span class=\"_na\" id=\"parent-row-playlist16651925\" style=\"display:none\">{\"id\":\"16651925\",\"title\":\"Riyas Retro Season 3\",\"index\":0,\"source\":3,\"source_id\":\"16651925\",\"content_source\":\"\",\"path\":\"\",\"objtype\":3,\"trackcount\":\"22969267,22993333,23015329,23035583,23062594,23093463,23120759,23120760,23153251,23175590,23191886,23241586,23297459,23346789,23407938,23483171,23513138,23544805,23566221,23587634,23621113,23738927,23785051,23817381,23839489,23876339,23940378,23968765,23992547,24100990,24064302,24094472,24127787,24150685,24183374,24218801,24245105,24272386,24292071,24324199,24344304,24363516,24406188,24458214,24534413,24568458,24599518,24625584,24693606,24796446,25024147\",\"track_ids\":null,\"object_type\":3,\"status\":\"0\",\"share_url\":\"\\/playlist\\/gaana-dj-riyas-retro-season-3\",\"albumartwork_large\":\"https:\\/\\/a10.gaanacdn.com\\/images\\/playlists\\/25\\/16651925\\/crop_80x80_16651925_1546946305.jpg\",\"albumartwork\":\"https:\\/\\/a10.gaanacdn.com\\/images\\/playlists\\/25\\/16651925\\/crop_80x80_16651925_1546946305.jpg\",\"premium_content\":\"0\",\"albumtitle\":null,\"albumseokey\":null,\"parental_warning\":0,\"artist\":\"\",\"seokey\":\"gaana-dj-riyas-retro-season-3\",\"language\":\"Hindi\",\"isSponsored\":0,\"isAv_ad\":0,\"duration\":0}</span>, <span class=\"_na\" id=\"parent-row-playlist9477595\" style=\"display:none\">{\"id\":\"9477595\",\"title\":\"Riyas Retro Season 2\",\"index\":0,\"source\":3,\"source_id\":\"9477595\",\"content_source\":\"\",\"path\":\"\",\"objtype\":3,\"trackcount\":\"21200055,21236665,21262795,21293033,21336125,21347660,21367264,21418173,21435595,21465784,21498468,21534851,21552662,21577196,21597241,21627217,21663009,21710500,21777226,21803282,21905422,22054584,22189819,22264163,22348594,22370809,22441041,22419151,22440904,22458733,22483460,22503513,22539834,22567615,22595756,22624851,22653318,22676695,22707364,22757139,22800786,22816545,22836248,22864151,22895082,22914959\",\"track_ids\":null,\"object_type\":3,\"status\":\"0\",\"share_url\":\"\\/playlist\\/gaana-dj-riyas-retro-season-2\",\"albumartwork_large\":\"https:\\/\\/a10.gaanacdn.com\\/images\\/playlists\\/95\\/9477595\\/crop_80x80_9477595_1515166914.jpg\",\"albumartwork\":\"https:\\/\\/a10.gaanacdn.com\\/images\\/playlists\\/95\\/9477595\\/crop_80x80_9477595_1515166914.jpg\",\"premium_content\":\"0\",\"albumtitle\":null,\"albumseokey\":null,\"parental_warning\":0,\"artist\":\"\",\"seokey\":\"gaana-dj-riyas-retro-season-2\",\"language\":\"Hindi\",\"isSponsored\":0,\"isAv_ad\":0,\"duration\":0}</span>, <span class=\"_na\" id=\"parent-row-playlist6128838\" style=\"display:none\">{\"id\":\"6128838\",\"title\":\"Riyas Retro Season 1\",\"index\":0,\"source\":3,\"source_id\":\"6128838\",\"content_source\":\"\",\"path\":\"\",\"objtype\":3,\"trackcount\":\"17532620,17631714,17689104,17711983,17765412,17794367,17851051,17889931,17932744,17961189,17992740,18041760,18067286,18107951,18378819,19396713,19419174,19439191,19481909,19515058,19551283,19925672,20532660,20597161,20614476,20657123,20737342,20763467,20772526,20848642,20905813,20961208,20987100,21018661,21036626,21062558,21076394\",\"track_ids\":null,\"object_type\":3,\"status\":\"0\",\"share_url\":\"\\/playlist\\/gaana-dj-riyas-retro-playlist\",\"albumartwork_large\":\"https:\\/\\/a10.gaanacdn.com\\/images\\/playlists\\/38\\/6128838\\/crop_80x80_1548140621_6128838.jpg\",\"albumartwork\":\"https:\\/\\/a10.gaanacdn.com\\/images\\/playlists\\/38\\/6128838\\/crop_80x80_1548140621_6128838.jpg\",\"premium_content\":\"0\",\"albumtitle\":null,\"albumseokey\":null,\"parental_warning\":0,\"artist\":\"\",\"seokey\":\"gaana-dj-riyas-retro-playlist\",\"language\":\"Hindi\",\"isSponsored\":0,\"isAv_ad\":0,\"duration\":0}</span>, <span class=\"_na\" id=\"parent-row-playlist17359560\" style=\"display:none\">{\"id\":\"17359560\",\"title\":\"Not So Bollywood Season 2\",\"index\":0,\"source\":3,\"source_id\":\"17359560\",\"content_source\":\"\",\"path\":\"\",\"objtype\":3,\"trackcount\":\"23062210,23092219,23109764,23133701,23174318,23190207,23239939,23263552,23344545,23397670,23460947,23509458,23544304,23565712,23586278,23611383,23744227,23771109,23811757,23832788,23873394,23932658,23961783,23978515,24020787,24045006,24126420,24125599,24148726,24175179,24215001,24242186,24271091,24291122,24320725,24341563,24359683,24397553,24426290,24495692,24560953,24598218,24612453,24684747,24787052,24949527,25089225\",\"track_ids\":null,\"object_type\":3,\"status\":\"0\",\"share_url\":\"\\/playlist\\/gaana-dj-not-so-bollywood-season-2\",\"albumartwork_large\":\"https:\\/\\/a10.gaanacdn.com\\/images\\/playlists\\/60\\/17359560\\/crop_80x80_1555327562_17359560.jpg\",\"albumartwork\":\"https:\\/\\/a10.gaanacdn.com\\/images\\/playlists\\/60\\/17359560\\/crop_80x80_1555327562_17359560.jpg\",\"premium_content\":\"0\",\"albumtitle\":null,\"albumseokey\":null,\"parental_warning\":0,\"artist\":\"\",\"seokey\":\"gaana-dj-not-so-bollywood-season-2\",\"language\":\"Hindi\",\"isSponsored\":0,\"isAv_ad\":0,\"duration\":0}</span>, <span class=\"_na\" id=\"parent-row-playlist8768100\" style=\"display:none\">{\"id\":\"8768100\",\"title\":\"Not So Bollywood\",\"index\":0,\"source\":3,\"source_id\":\"8768100\",\"content_source\":\"\",\"path\":\"\",\"objtype\":3,\"trackcount\":\"22913044,22893312,22862379,22831983,22815955,22794778,22746502,22706250,22676303,22652158,22624425,22594883,22565591,22539762,22502798,22481141,22457829,22438861,22417762,22399509,22364771,22347986,22189513,22189328,22053703,21904132,21852214,21819258,21802645,21774543,21696974,21658745,21616734,21596118,21576969,21546454,21532333,21494369,21465207,21435398,21391811,21361641,21346786,21321691,21290364,21262132,21230596,21192119,21167649,21136353,21106086,21091029,21075877,21045670,21036624,20997447\",\"track_ids\":null,\"object_type\":3,\"status\":\"0\",\"share_url\":\"\\/playlist\\/gaana-dj-not-so-bollywood\",\"albumartwork_large\":\"https:\\/\\/a10.gaanacdn.com\\/images\\/playlists\\/0\\/8768100\\/crop_80x80_8768100_1516101462.jpg\",\"albumartwork\":\"https:\\/\\/a10.gaanacdn.com\\/images\\/playlists\\/0\\/8768100\\/crop_80x80_8768100_1516101462.jpg\",\"premium_content\":\"0\",\"albumtitle\":null,\"albumseokey\":null,\"parental_warning\":0,\"artist\":\"\",\"seokey\":\"gaana-dj-not-so-bollywood\",\"language\":\"Hindi\",\"isSponsored\":0,\"isAv_ad\":0,\"duration\":0}</span>, <span class=\"_na\" id=\"parent-row-playlist7844194\" style=\"display:none\">{\"id\":\"7844194\",\"title\":\"Best of Planet Bollywood\",\"index\":0,\"source\":3,\"source_id\":\"7844194\",\"content_source\":\"\",\"path\":\"\",\"objtype\":3,\"trackcount\":\"23479099,23401312,23346483,23296927,23241057,23191284,23174755,23152339,23109872,23092758,23062593,23034752,23013938,22919759,22914866,22893556,22863777,22835877,22812996,22795378,22750659,22706842,22676450,22652442,22624524,22594988,22550361,22539833,22502968,22481732,22458143,22439721,22418808,22419106,22370712,22348191,22189477,22054012,21905421,21846083,21827674,21802844,21776367,21689415,21610988,21596360,21577094,21552453,21533678,21494731,21465339,21435596,21405822,21367262,21347657,21328538,21290866,21262276,21236301,21199595,21158116,21141998,21114620,21092398,21075914,21046027,21036625,20998051,20985069,20959630,20895201,20848567,20772525,20763471,20726753,20657121,20614475,20596635\",\"track_ids\":null,\"object_type\":3,\"status\":\"0\",\"share_url\":\"\\/playlist\\/gaana-dj-best-of-planet-bollywood\",\"albumartwork_large\":\"https:\\/\\/a10.gaanacdn.com\\/images\\/playlists\\/94\\/7844194\\/crop_80x80_7844194_1524569904.jpg\",\"albumartwork\":\"https:\\/\\/a10.gaanacdn.com\\/images\\/playlists\\/94\\/7844194\\/crop_80x80_7844194_1524569904.jpg\",\"premium_content\":\"0\",\"albumtitle\":null,\"albumseokey\":null,\"parental_warning\":0,\"artist\":\"\",\"seokey\":\"gaana-dj-best-of-planet-bollywood\",\"language\":\"Hindi\",\"isSponsored\":0,\"isAv_ad\":0,\"duration\":0}</span>, <span class=\"_na\" id=\"parent-row-playlist7857652\" style=\"display:none\">{\"id\":\"7857652\",\"title\":\"Best of 30 mein 30\",\"index\":0,\"source\":3,\"source_id\":\"7857652\",\"content_source\":\"\",\"path\":\"\",\"objtype\":3,\"trackcount\":\"23483172,23407696,23346792,23297460,23241587,23191888,23175589,23153262,23120802,23093500,23063196,23035714,23015331,22922483,22914961,22894871,22864168,22836178,22816647,22795551,22757138,22707366,22676696,22653365,22625065,22595758,22567616,22540212,22503529,22483463,22458867,22440921,22419152,22399886,22370814,22348593,22264164,22055089,21905826,21852568,21827943,21803281,21777225,21704038,21627219,21597243,21577198,21552815,21536510,21498467,21469480,21439204,21406606,21367261,21349015,21330336,21291623,21262799,21236668,21200327,21178711,21142004,21117369,21093213,21076395,21062560,21040406,20998746,20987118,20961209,20915478,20848911,20772527,20763486,20737302,20658459,20625971,20597162\",\"track_ids\":null,\"object_type\":3,\"status\":\"0\",\"share_url\":\"\\/playlist\\/gaana-dj-best-of-30-mein-30\",\"albumartwork_large\":\"https:\\/\\/a10.gaanacdn.com\\/images\\/playlists\\/52\\/7857652\\/crop_80x80_7857652_1524589940.jpg\",\"albumartwork\":\"https:\\/\\/a10.gaanacdn.com\\/images\\/playlists\\/52\\/7857652\\/crop_80x80_7857652_1524589940.jpg\",\"premium_content\":\"0\",\"albumtitle\":null,\"albumseokey\":null,\"parental_warning\":0,\"artist\":\"\",\"seokey\":\"gaana-dj-best-of-30-mein-30\",\"language\":\"Hindi\",\"isSponsored\":0,\"isAv_ad\":0,\"duration\":0}</span>, <span class=\"_na\" id=\"parent-row-playlist7096774\" style=\"display:none\">{\"id\":\"7096774\",\"title\":\"The Asha Verdict\",\"index\":0,\"source\":3,\"source_id\":\"7096774\",\"content_source\":\"\",\"path\":\"\",\"objtype\":3,\"trackcount\":\"21045821,20987227,20961096,20915526,20755706,20946700,20737874,20026347,19540538,19480817,19501232,19396714,18122579\",\"track_ids\":null,\"object_type\":3,\"status\":\"0\",\"share_url\":\"\\/playlist\\/gaana-dj-the-asha-verdict\",\"albumartwork_large\":\"https:\\/\\/a10.gaanacdn.com\\/images\\/playlists\\/74\\/7096774\\/crop_80x80_7096774_1510768824.jpg\",\"albumartwork\":\"https:\\/\\/a10.gaanacdn.com\\/images\\/playlists\\/74\\/7096774\\/crop_80x80_7096774_1510768824.jpg\",\"premium_content\":\"0\",\"albumtitle\":null,\"albumseokey\":null,\"parental_warning\":0,\"artist\":\"\",\"seokey\":\"gaana-dj-the-asha-verdict\",\"language\":\"Hindi\",\"isSponsored\":0,\"isAv_ad\":0,\"duration\":0}</span>, <span class=\"_na\" id=\"parent-row-playlist9372087\" style=\"display:none\">{\"id\":\"9372087\",\"title\":\"The Asha Verdict Season 2\",\"index\":0,\"source\":3,\"source_id\":\"9372087\",\"content_source\":\"\",\"path\":\"\",\"objtype\":3,\"trackcount\":\"22343271,21837278,21546473,21533684,21424593,21373050,21350661,21271108,21215672,21157808,21129031,21157452\",\"track_ids\":null,\"object_type\":3,\"status\":\"0\",\"share_url\":\"\\/playlist\\/gaana-dj-the-asha-verdict-season-2\",\"albumartwork_large\":\"https:\\/\\/a10.gaanacdn.com\\/images\\/playlists\\/87\\/9372087\\/crop_80x80_9372087_1510769038.jpg\",\"albumartwork\":\"https:\\/\\/a10.gaanacdn.com\\/images\\/playlists\\/87\\/9372087\\/crop_80x80_9372087_1510769038.jpg\",\"premium_content\":\"0\",\"albumtitle\":null,\"albumseokey\":null,\"parental_warning\":0,\"artist\":\"\",\"seokey\":\"gaana-dj-the-asha-verdict-season-2\",\"language\":\"Hindi\",\"isSponsored\":0,\"isAv_ad\":0,\"duration\":0}</span>, <span class=\"_na\" id=\"parent-row-playlist8893353\" style=\"display:none\">{\"id\":\"8893353\",\"title\":\"The Unheard-Season 1\",\"index\":0,\"source\":3,\"source_id\":\"8893353\",\"content_source\":\"\",\"path\":\"\",\"objtype\":3,\"trackcount\":\"22189476,21905420,21783452,21626518,21577093,21533674,21465208,21405844,21291023,21236405,21167723,21115172,21075945,21036627\",\"track_ids\":null,\"object_type\":3,\"status\":\"0\",\"share_url\":\"\\/playlist\\/gaana-dj-the-unheard\",\"albumartwork_large\":\"https:\\/\\/a10.gaanacdn.com\\/images\\/playlists\\/53\\/8893353\\/crop_80x80_8893353_1510768686.jpg\",\"albumartwork\":\"https:\\/\\/a10.gaanacdn.com\\/images\\/playlists\\/53\\/8893353\\/crop_80x80_8893353_1510768686.jpg\",\"premium_content\":\"0\",\"albumtitle\":null,\"albumseokey\":null,\"parental_warning\":0,\"artist\":\"\",\"seokey\":\"gaana-dj-the-unheard\",\"language\":\"Hindi\",\"isSponsored\":0,\"isAv_ad\":0,\"duration\":0}</span>, <span class=\"_na\" id=\"parent-row-playlist20085773\" style=\"display:none\">{\"id\":\"20085773\",\"title\":\"Kahaani Rooh Ki Season-3\",\"index\":0,\"source\":3,\"source_id\":\"20085773\",\"content_source\":\"\",\"path\":\"\",\"objtype\":3,\"trackcount\":\"23592362,23628579,23748998,23794263,23822208,23848715,23885286,23945035,23975073,23995832,24025382,24070181\",\"track_ids\":null,\"object_type\":3,\"status\":\"0\",\"share_url\":\"\\/playlist\\/gaana-dj-kahaani-rooh-ki-season-3\",\"albumartwork_large\":\"https:\\/\\/a10.gaanacdn.com\\/images\\/playlists\\/73\\/20085773\\/crop_80x80_20085773_1538809091.jpg\",\"albumartwork\":\"https:\\/\\/a10.gaanacdn.com\\/images\\/playlists\\/73\\/20085773\\/crop_80x80_20085773_1538809091.jpg\",\"premium_content\":\"0\",\"albumtitle\":null,\"albumseokey\":null,\"parental_warning\":0,\"artist\":\"\",\"seokey\":\"gaana-dj-kahaani-rooh-ki-season-3\",\"language\":\"Hindi\",\"isSponsored\":0,\"isAv_ad\":0,\"duration\":0}</span>, <span class=\"_na\" id=\"parent-row-playlist16678965\" style=\"display:none\">{\"id\":\"16678965\",\"title\":\"Kahaani Rooh Ki Season-2\",\"index\":0,\"source\":3,\"source_id\":\"16678965\",\"content_source\":\"\",\"path\":\"\",\"objtype\":3,\"trackcount\":\"22973617,22995944,23019984,23043497,23068334,23100852,23123304,23158884,23180366,23219190,23260328,23300139\",\"track_ids\":null,\"object_type\":3,\"status\":\"0\",\"share_url\":\"\\/playlist\\/gaana-dj-kahaani-rooh-ki-season-2\",\"albumartwork_large\":\"https:\\/\\/a10.gaanacdn.com\\/images\\/playlists\\/65\\/16678965\\/crop_80x80_16678965_1522859369.jpg\",\"albumartwork\":\"https:\\/\\/a10.gaanacdn.com\\/images\\/playlists\\/65\\/16678965\\/crop_80x80_16678965_1522859369.jpg\",\"premium_content\":\"0\",\"albumtitle\":null,\"albumseokey\":null,\"parental_warning\":0,\"artist\":\"\",\"seokey\":\"gaana-dj-kahaani-rooh-ki-season-2\",\"language\":\"Hindi\",\"isSponsored\":0,\"isAv_ad\":0,\"duration\":0}</span>, <span class=\"_na\" id=\"parent-row-playlist14258709\" style=\"display:none\">{\"id\":\"14258709\",\"title\":\"Kahaani Rooh Ki\",\"index\":0,\"source\":3,\"source_id\":\"14258709\",\"content_source\":\"\",\"path\":\"\",\"objtype\":3,\"trackcount\":\"22604973,22627804,22661371,22683981,22713434,22767404,22800787,22821145,22841600,22868595,22899698,22917158\",\"track_ids\":null,\"object_type\":3,\"status\":\"0\",\"share_url\":\"\\/playlist\\/gaana-dj-kahaani-rooh-ki\",\"albumartwork_large\":\"https:\\/\\/a10.gaanacdn.com\\/images\\/playlists\\/9\\/14258709\\/crop_80x80_14258709_1516194601.jpg\",\"albumartwork\":\"https:\\/\\/a10.gaanacdn.com\\/images\\/playlists\\/9\\/14258709\\/crop_80x80_14258709_1516194601.jpg\",\"premium_content\":\"0\",\"albumtitle\":null,\"albumseokey\":null,\"parental_warning\":0,\"artist\":\"\",\"seokey\":\"gaana-dj-kahaani-rooh-ki\",\"language\":\"Hindi\",\"isSponsored\":0,\"isAv_ad\":0,\"duration\":0}</span>, <span class=\"_na\" id=\"parent-row-playlist6858733\" style=\"display:none\">{\"id\":\"6858733\",\"title\":\"Kahanibaaz Season 1\",\"index\":0,\"source\":3,\"source_id\":\"6858733\",\"content_source\":\"\",\"path\":\"\",\"objtype\":3,\"trackcount\":\"17992738,18067289,18375775,19419176,19481916,19551551,20532661,20614477,20726771,20801666\",\"track_ids\":null,\"object_type\":3,\"status\":\"0\",\"share_url\":\"\\/playlist\\/gaana-dj-kahanibaaz-ashish\",\"albumartwork_large\":\"https:\\/\\/a10.gaanacdn.com\\/images\\/playlists\\/33\\/6858733\\/crop_80x80_6858733_1510768760.jpg\",\"albumartwork\":\"https:\\/\\/a10.gaanacdn.com\\/images\\/playlists\\/33\\/6858733\\/crop_80x80_6858733_1510768760.jpg\",\"premium_content\":\"0\",\"albumtitle\":null,\"albumseokey\":null,\"parental_warning\":0,\"artist\":\"\",\"seokey\":\"gaana-dj-kahanibaaz-ashish\",\"language\":\"Hindi\",\"isSponsored\":0,\"isAv_ad\":0,\"duration\":0}</span>, <span class=\"_na\" id=\"parent-row-playlist9595971\" style=\"display:none\">{\"id\":\"9595971\",\"title\":\"Kahanibaaz Season 2\",\"index\":0,\"source\":3,\"source_id\":\"9595971\",\"content_source\":\"\",\"path\":\"\",\"objtype\":3,\"trackcount\":\"21179367,21242619,21291626,21350051,21406388,21465785,21534852,21577199,21640046,21711742,22392588,22423487\",\"track_ids\":null,\"object_type\":3,\"status\":\"0\",\"share_url\":\"\\/playlist\\/gaana-dj-kahanibaaz-season-2\",\"albumartwork_large\":\"https:\\/\\/a10.gaanacdn.com\\/images\\/playlists\\/71\\/9595971\\/crop_80x80_9595971_1510768967.jpg\",\"albumartwork\":\"https:\\/\\/a10.gaanacdn.com\\/images\\/playlists\\/71\\/9595971\\/crop_80x80_9595971_1510768967.jpg\",\"premium_content\":\"0\",\"albumtitle\":null,\"albumseokey\":null,\"parental_warning\":0,\"artist\":\"\",\"seokey\":\"gaana-dj-kahanibaaz-season-2\",\"language\":\"Hindi\",\"isSponsored\":0,\"isAv_ad\":0,\"duration\":0}</span>, <span class=\"_na\" id=\"parent-row-playlist20020868\" style=\"display:none\">{\"id\":\"20020868\",\"title\":\"Shuddh Vichaar\",\"index\":0,\"source\":3,\"source_id\":\"20020868\",\"content_source\":\"\",\"path\":\"\",\"objtype\":3,\"trackcount\":\"27948897,27905296,27853127,27819548,27757180,27614301,27452487,27344105,27214360,27001028,26922447,26749450,26577532,26422500,26259877,26111337,25953717,25913901,25876771,25830074,25751541,25638106,25628278,25576076,25544340,25433890,25396322,25340221,25270048,25201780,25089177,24998897,24787706,24691214,24629186,24598918,24566634,24533133,24447187,24404758,24362158,24343482,24322155,24292070,24271476,24242852,24217378,24180146,24150071,24126384,24091471,24062259,24021514,23982884,23962528,23936709,23861969,23837659,23816427,23785050,23721810,23615354,23586437\",\"track_ids\":null,\"object_type\":3,\"status\":\"0\",\"share_url\":\"\\/playlist\\/gaana-dj-shuddh-vichaar\",\"albumartwork_large\":\"https:\\/\\/a10.gaanacdn.com\\/images\\/playlists\\/68\\/20020868\\/crop_80x80_1565609503_20020868.jpg\",\"albumartwork\":\"https:\\/\\/a10.gaanacdn.com\\/images\\/playlists\\/68\\/20020868\\/crop_80x80_1565609503_20020868.jpg\",\"premium_content\":\"0\",\"albumtitle\":null,\"albumseokey\":null,\"parental_warning\":0,\"artist\":\"\",\"seokey\":\"gaana-dj-shuddh-vichaar\",\"language\":\"Hindi\",\"isSponsored\":0,\"isAv_ad\":0,\"duration\":0}</span>]\n"
     ]
    }
   ],
   "source": [
    "print(results)"
   ]
  },
  {
   "cell_type": "code",
   "execution_count": 1220,
   "metadata": {},
   "outputs": [],
   "source": [
    "containers = page_soup.findAll(\"span\")"
   ]
  },
  {
   "cell_type": "code",
   "execution_count": 1221,
   "metadata": {},
   "outputs": [
    {
     "name": "stdout",
     "output_type": "stream",
     "text": [
      "[<span>Home</span>, <span>browse</span>, <span>discover</span>, <span>Radio</span>, <span>my music</span>, <span>WORLD MUSIC</span>, <span>Clear currently playing song </span>, <span>Playlist</span>, <span class=\"autocomplete-loader\"></span>, <span data-pjax=\"\">Romance </span>, <span class=\"_na\" id=\"parent-row-playlist19993101\" style=\"display:none\">{\"id\":\"19993101\",\"title\":\"Ek Rang Ishq Ka Season-3\",\"index\":0,\"source\":3,\"source_id\":\"19993101\",\"content_source\":\"\",\"path\":\"\",\"objtype\":3,\"trackcount\":\"23582510,23611305,23645749,23770780,23811756,23828109,23861973,23916655,23959397,23977650,24003028,24045005,24085910\",\"track_ids\":null,\"object_type\":3,\"status\":\"0\",\"share_url\":\"\\/playlist\\/gaana-dj-ek-rang-ishq-ka-season-3\",\"albumartwork_large\":\"https:\\/\\/a10.gaanacdn.com\\/images\\/playlists\\/1\\/19993101\\/crop_80x80_19993101_1538809302.jpg\",\"albumartwork\":\"https:\\/\\/a10.gaanacdn.com\\/images\\/playlists\\/1\\/19993101\\/crop_80x80_19993101_1538809302.jpg\",\"premium_content\":\"0\",\"albumtitle\":null,\"albumseokey\":null,\"parental_warning\":0,\"artist\":\"\",\"seokey\":\"gaana-dj-ek-rang-ishq-ka-season-3\",\"language\":\"Hindi\",\"isSponsored\":0,\"isAv_ad\":0,\"duration\":0}</span>, <span>Ek Rang Ishq Ka Season-3</span>, <span class=\"_na\" id=\"parent-row-playlist20345738\" style=\"display:none\">{\"id\":\"20345738\",\"title\":\"Luv Shuv Etc with Sunny S\",\"index\":0,\"source\":3,\"source_id\":\"20345738\",\"content_source\":\"\",\"path\":\"\",\"objtype\":3,\"trackcount\":\"23633272,23766590,23802394,23826064,23855981,23907651,23950479,23976511,23998450,24031372,24075811,24106245,24137639,24159309,24196562,24228843,24254381,24277304,24305321,24333419,24352155,24371126,24412559,24482295,24550213\",\"track_ids\":null,\"object_type\":3,\"status\":\"0\",\"share_url\":\"\\/playlist\\/gaana-dj-luv-shuv-etc-with-sunny-s\",\"albumartwork_large\":\"https:\\/\\/a10.gaanacdn.com\\/images\\/playlists\\/38\\/20345738\\/crop_80x80_1557995017_20345738.jpg\",\"albumartwork\":\"https:\\/\\/a10.gaanacdn.com\\/images\\/playlists\\/38\\/20345738\\/crop_80x80_1557995017_20345738.jpg\",\"premium_content\":\"0\",\"albumtitle\":null,\"albumseokey\":null,\"parental_warning\":0,\"artist\":\"\",\"seokey\":\"gaana-dj-luv-shuv-etc-with-sunny-s\",\"language\":\"Hindi\",\"isSponsored\":0,\"isAv_ad\":0,\"duration\":0}</span>, <span>Luv Shuv Etc with Sunny S</span>, <span class=\"_na\" id=\"parent-row-playlist16793989\" style=\"display:none\">{\"id\":\"16793989\",\"title\":\"Ek Rang Ishq Ka Season-2\",\"index\":0,\"source\":3,\"source_id\":\"16793989\",\"content_source\":\"\",\"path\":\"\",\"objtype\":3,\"trackcount\":\"22992050,22996392,23034502,23062208,23077992,23109256,23134314,23164146,23188719,23232097,23262154,23344191,23397490\",\"track_ids\":null,\"object_type\":3,\"status\":\"0\",\"share_url\":\"\\/playlist\\/gaana-dj-ek-rang-ishq-ka-season-2\",\"albumartwork_large\":\"https:\\/\\/a10.gaanacdn.com\\/images\\/playlists\\/89\\/16793989\\/crop_80x80_16793989_1524839588.jpg\",\"albumartwork\":\"https:\\/\\/a10.gaanacdn.com\\/images\\/playlists\\/89\\/16793989\\/crop_80x80_16793989_1524839588.jpg\",\"premium_content\":\"0\",\"albumtitle\":null,\"albumseokey\":null,\"parental_warning\":0,\"artist\":\"\",\"seokey\":\"gaana-dj-ek-rang-ishq-ka-season-2\",\"language\":\"Hindi\",\"isSponsored\":0,\"isAv_ad\":0,\"duration\":0}</span>, <span>Ek Rang Ishq Ka Season-2</span>, <span class=\"_na\" id=\"parent-row-playlist14194747\" style=\"display:none\">{\"id\":\"14194747\",\"title\":\"EK Rang Ishq Ka\",\"index\":0,\"source\":3,\"source_id\":\"14194747\",\"content_source\":\"\",\"path\":\"\",\"objtype\":3,\"trackcount\":\"22594888,22623822,22631539,22668815,22706251,22729988,22790245,22810324,22831982,22852483,22883094,22907654,22929914\",\"track_ids\":null,\"object_type\":3,\"status\":\"0\",\"share_url\":\"\\/playlist\\/gaana-dj-ek-rang-ishq-ka\",\"albumartwork_large\":\"https:\\/\\/a10.gaanacdn.com\\/images\\/playlists\\/47\\/14194747\\/crop_80x80_14194747_1541239447.jpg\",\"albumartwork\":\"https:\\/\\/a10.gaanacdn.com\\/images\\/playlists\\/47\\/14194747\\/crop_80x80_14194747_1541239447.jpg\",\"premium_content\":\"0\",\"albumtitle\":null,\"albumseokey\":null,\"parental_warning\":0,\"artist\":\"\",\"seokey\":\"gaana-dj-ek-rang-ishq-ka\",\"language\":\"Hindi\",\"isSponsored\":0,\"isAv_ad\":0,\"duration\":0}</span>, <span>EK Rang Ishq Ka</span>, <span data-pjax=\"\">Retro</span>, <span class=\"_na\" id=\"parent-row-playlist16651925\" style=\"display:none\">{\"id\":\"16651925\",\"title\":\"Riyas Retro Season 3\",\"index\":0,\"source\":3,\"source_id\":\"16651925\",\"content_source\":\"\",\"path\":\"\",\"objtype\":3,\"trackcount\":\"22969267,22993333,23015329,23035583,23062594,23093463,23120759,23120760,23153251,23175590,23191886,23241586,23297459,23346789,23407938,23483171,23513138,23544805,23566221,23587634,23621113,23738927,23785051,23817381,23839489,23876339,23940378,23968765,23992547,24100990,24064302,24094472,24127787,24150685,24183374,24218801,24245105,24272386,24292071,24324199,24344304,24363516,24406188,24458214,24534413,24568458,24599518,24625584,24693606,24796446,25024147\",\"track_ids\":null,\"object_type\":3,\"status\":\"0\",\"share_url\":\"\\/playlist\\/gaana-dj-riyas-retro-season-3\",\"albumartwork_large\":\"https:\\/\\/a10.gaanacdn.com\\/images\\/playlists\\/25\\/16651925\\/crop_80x80_16651925_1546946305.jpg\",\"albumartwork\":\"https:\\/\\/a10.gaanacdn.com\\/images\\/playlists\\/25\\/16651925\\/crop_80x80_16651925_1546946305.jpg\",\"premium_content\":\"0\",\"albumtitle\":null,\"albumseokey\":null,\"parental_warning\":0,\"artist\":\"\",\"seokey\":\"gaana-dj-riyas-retro-season-3\",\"language\":\"Hindi\",\"isSponsored\":0,\"isAv_ad\":0,\"duration\":0}</span>, <span>Riyas Retro Season 3</span>, <span class=\"_na\" id=\"parent-row-playlist9477595\" style=\"display:none\">{\"id\":\"9477595\",\"title\":\"Riyas Retro Season 2\",\"index\":0,\"source\":3,\"source_id\":\"9477595\",\"content_source\":\"\",\"path\":\"\",\"objtype\":3,\"trackcount\":\"21200055,21236665,21262795,21293033,21336125,21347660,21367264,21418173,21435595,21465784,21498468,21534851,21552662,21577196,21597241,21627217,21663009,21710500,21777226,21803282,21905422,22054584,22189819,22264163,22348594,22370809,22441041,22419151,22440904,22458733,22483460,22503513,22539834,22567615,22595756,22624851,22653318,22676695,22707364,22757139,22800786,22816545,22836248,22864151,22895082,22914959\",\"track_ids\":null,\"object_type\":3,\"status\":\"0\",\"share_url\":\"\\/playlist\\/gaana-dj-riyas-retro-season-2\",\"albumartwork_large\":\"https:\\/\\/a10.gaanacdn.com\\/images\\/playlists\\/95\\/9477595\\/crop_80x80_9477595_1515166914.jpg\",\"albumartwork\":\"https:\\/\\/a10.gaanacdn.com\\/images\\/playlists\\/95\\/9477595\\/crop_80x80_9477595_1515166914.jpg\",\"premium_content\":\"0\",\"albumtitle\":null,\"albumseokey\":null,\"parental_warning\":0,\"artist\":\"\",\"seokey\":\"gaana-dj-riyas-retro-season-2\",\"language\":\"Hindi\",\"isSponsored\":0,\"isAv_ad\":0,\"duration\":0}</span>, <span>Riyas Retro Season 2</span>, <span class=\"_na\" id=\"parent-row-playlist6128838\" style=\"display:none\">{\"id\":\"6128838\",\"title\":\"Riyas Retro Season 1\",\"index\":0,\"source\":3,\"source_id\":\"6128838\",\"content_source\":\"\",\"path\":\"\",\"objtype\":3,\"trackcount\":\"17532620,17631714,17689104,17711983,17765412,17794367,17851051,17889931,17932744,17961189,17992740,18041760,18067286,18107951,18378819,19396713,19419174,19439191,19481909,19515058,19551283,19925672,20532660,20597161,20614476,20657123,20737342,20763467,20772526,20848642,20905813,20961208,20987100,21018661,21036626,21062558,21076394\",\"track_ids\":null,\"object_type\":3,\"status\":\"0\",\"share_url\":\"\\/playlist\\/gaana-dj-riyas-retro-playlist\",\"albumartwork_large\":\"https:\\/\\/a10.gaanacdn.com\\/images\\/playlists\\/38\\/6128838\\/crop_80x80_1548140621_6128838.jpg\",\"albumartwork\":\"https:\\/\\/a10.gaanacdn.com\\/images\\/playlists\\/38\\/6128838\\/crop_80x80_1548140621_6128838.jpg\",\"premium_content\":\"0\",\"albumtitle\":null,\"albumseokey\":null,\"parental_warning\":0,\"artist\":\"\",\"seokey\":\"gaana-dj-riyas-retro-playlist\",\"language\":\"Hindi\",\"isSponsored\":0,\"isAv_ad\":0,\"duration\":0}</span>, <span>Riyas Retro Season 1</span>, <span data-pjax=\"\">Bollywood</span>, <span class=\"_na\" id=\"parent-row-playlist17359560\" style=\"display:none\">{\"id\":\"17359560\",\"title\":\"Not So Bollywood Season 2\",\"index\":0,\"source\":3,\"source_id\":\"17359560\",\"content_source\":\"\",\"path\":\"\",\"objtype\":3,\"trackcount\":\"23062210,23092219,23109764,23133701,23174318,23190207,23239939,23263552,23344545,23397670,23460947,23509458,23544304,23565712,23586278,23611383,23744227,23771109,23811757,23832788,23873394,23932658,23961783,23978515,24020787,24045006,24126420,24125599,24148726,24175179,24215001,24242186,24271091,24291122,24320725,24341563,24359683,24397553,24426290,24495692,24560953,24598218,24612453,24684747,24787052,24949527,25089225\",\"track_ids\":null,\"object_type\":3,\"status\":\"0\",\"share_url\":\"\\/playlist\\/gaana-dj-not-so-bollywood-season-2\",\"albumartwork_large\":\"https:\\/\\/a10.gaanacdn.com\\/images\\/playlists\\/60\\/17359560\\/crop_80x80_1555327562_17359560.jpg\",\"albumartwork\":\"https:\\/\\/a10.gaanacdn.com\\/images\\/playlists\\/60\\/17359560\\/crop_80x80_1555327562_17359560.jpg\",\"premium_content\":\"0\",\"albumtitle\":null,\"albumseokey\":null,\"parental_warning\":0,\"artist\":\"\",\"seokey\":\"gaana-dj-not-so-bollywood-season-2\",\"language\":\"Hindi\",\"isSponsored\":0,\"isAv_ad\":0,\"duration\":0}</span>, <span>Not So Bollywood Season 2</span>, <span class=\"_na\" id=\"parent-row-playlist8768100\" style=\"display:none\">{\"id\":\"8768100\",\"title\":\"Not So Bollywood\",\"index\":0,\"source\":3,\"source_id\":\"8768100\",\"content_source\":\"\",\"path\":\"\",\"objtype\":3,\"trackcount\":\"22913044,22893312,22862379,22831983,22815955,22794778,22746502,22706250,22676303,22652158,22624425,22594883,22565591,22539762,22502798,22481141,22457829,22438861,22417762,22399509,22364771,22347986,22189513,22189328,22053703,21904132,21852214,21819258,21802645,21774543,21696974,21658745,21616734,21596118,21576969,21546454,21532333,21494369,21465207,21435398,21391811,21361641,21346786,21321691,21290364,21262132,21230596,21192119,21167649,21136353,21106086,21091029,21075877,21045670,21036624,20997447\",\"track_ids\":null,\"object_type\":3,\"status\":\"0\",\"share_url\":\"\\/playlist\\/gaana-dj-not-so-bollywood\",\"albumartwork_large\":\"https:\\/\\/a10.gaanacdn.com\\/images\\/playlists\\/0\\/8768100\\/crop_80x80_8768100_1516101462.jpg\",\"albumartwork\":\"https:\\/\\/a10.gaanacdn.com\\/images\\/playlists\\/0\\/8768100\\/crop_80x80_8768100_1516101462.jpg\",\"premium_content\":\"0\",\"albumtitle\":null,\"albumseokey\":null,\"parental_warning\":0,\"artist\":\"\",\"seokey\":\"gaana-dj-not-so-bollywood\",\"language\":\"Hindi\",\"isSponsored\":0,\"isAv_ad\":0,\"duration\":0}</span>, <span>Not So Bollywood</span>, <span class=\"_na\" id=\"parent-row-playlist7844194\" style=\"display:none\">{\"id\":\"7844194\",\"title\":\"Best of Planet Bollywood\",\"index\":0,\"source\":3,\"source_id\":\"7844194\",\"content_source\":\"\",\"path\":\"\",\"objtype\":3,\"trackcount\":\"23479099,23401312,23346483,23296927,23241057,23191284,23174755,23152339,23109872,23092758,23062593,23034752,23013938,22919759,22914866,22893556,22863777,22835877,22812996,22795378,22750659,22706842,22676450,22652442,22624524,22594988,22550361,22539833,22502968,22481732,22458143,22439721,22418808,22419106,22370712,22348191,22189477,22054012,21905421,21846083,21827674,21802844,21776367,21689415,21610988,21596360,21577094,21552453,21533678,21494731,21465339,21435596,21405822,21367262,21347657,21328538,21290866,21262276,21236301,21199595,21158116,21141998,21114620,21092398,21075914,21046027,21036625,20998051,20985069,20959630,20895201,20848567,20772525,20763471,20726753,20657121,20614475,20596635\",\"track_ids\":null,\"object_type\":3,\"status\":\"0\",\"share_url\":\"\\/playlist\\/gaana-dj-best-of-planet-bollywood\",\"albumartwork_large\":\"https:\\/\\/a10.gaanacdn.com\\/images\\/playlists\\/94\\/7844194\\/crop_80x80_7844194_1524569904.jpg\",\"albumartwork\":\"https:\\/\\/a10.gaanacdn.com\\/images\\/playlists\\/94\\/7844194\\/crop_80x80_7844194_1524569904.jpg\",\"premium_content\":\"0\",\"albumtitle\":null,\"albumseokey\":null,\"parental_warning\":0,\"artist\":\"\",\"seokey\":\"gaana-dj-best-of-planet-bollywood\",\"language\":\"Hindi\",\"isSponsored\":0,\"isAv_ad\":0,\"duration\":0}</span>, <span>Best of Planet Bollywood</span>, <span class=\"_na\" id=\"parent-row-playlist7857652\" style=\"display:none\">{\"id\":\"7857652\",\"title\":\"Best of 30 mein 30\",\"index\":0,\"source\":3,\"source_id\":\"7857652\",\"content_source\":\"\",\"path\":\"\",\"objtype\":3,\"trackcount\":\"23483172,23407696,23346792,23297460,23241587,23191888,23175589,23153262,23120802,23093500,23063196,23035714,23015331,22922483,22914961,22894871,22864168,22836178,22816647,22795551,22757138,22707366,22676696,22653365,22625065,22595758,22567616,22540212,22503529,22483463,22458867,22440921,22419152,22399886,22370814,22348593,22264164,22055089,21905826,21852568,21827943,21803281,21777225,21704038,21627219,21597243,21577198,21552815,21536510,21498467,21469480,21439204,21406606,21367261,21349015,21330336,21291623,21262799,21236668,21200327,21178711,21142004,21117369,21093213,21076395,21062560,21040406,20998746,20987118,20961209,20915478,20848911,20772527,20763486,20737302,20658459,20625971,20597162\",\"track_ids\":null,\"object_type\":3,\"status\":\"0\",\"share_url\":\"\\/playlist\\/gaana-dj-best-of-30-mein-30\",\"albumartwork_large\":\"https:\\/\\/a10.gaanacdn.com\\/images\\/playlists\\/52\\/7857652\\/crop_80x80_7857652_1524589940.jpg\",\"albumartwork\":\"https:\\/\\/a10.gaanacdn.com\\/images\\/playlists\\/52\\/7857652\\/crop_80x80_7857652_1524589940.jpg\",\"premium_content\":\"0\",\"albumtitle\":null,\"albumseokey\":null,\"parental_warning\":0,\"artist\":\"\",\"seokey\":\"gaana-dj-best-of-30-mein-30\",\"language\":\"Hindi\",\"isSponsored\":0,\"isAv_ad\":0,\"duration\":0}</span>, <span>Best of 30 mein 30</span>, <span class=\"_na\" id=\"parent-row-playlist7096774\" style=\"display:none\">{\"id\":\"7096774\",\"title\":\"The Asha Verdict\",\"index\":0,\"source\":3,\"source_id\":\"7096774\",\"content_source\":\"\",\"path\":\"\",\"objtype\":3,\"trackcount\":\"21045821,20987227,20961096,20915526,20755706,20946700,20737874,20026347,19540538,19480817,19501232,19396714,18122579\",\"track_ids\":null,\"object_type\":3,\"status\":\"0\",\"share_url\":\"\\/playlist\\/gaana-dj-the-asha-verdict\",\"albumartwork_large\":\"https:\\/\\/a10.gaanacdn.com\\/images\\/playlists\\/74\\/7096774\\/crop_80x80_7096774_1510768824.jpg\",\"albumartwork\":\"https:\\/\\/a10.gaanacdn.com\\/images\\/playlists\\/74\\/7096774\\/crop_80x80_7096774_1510768824.jpg\",\"premium_content\":\"0\",\"albumtitle\":null,\"albumseokey\":null,\"parental_warning\":0,\"artist\":\"\",\"seokey\":\"gaana-dj-the-asha-verdict\",\"language\":\"Hindi\",\"isSponsored\":0,\"isAv_ad\":0,\"duration\":0}</span>, <span>The Asha Verdict</span>, <span class=\"_na\" id=\"parent-row-playlist9372087\" style=\"display:none\">{\"id\":\"9372087\",\"title\":\"The Asha Verdict Season 2\",\"index\":0,\"source\":3,\"source_id\":\"9372087\",\"content_source\":\"\",\"path\":\"\",\"objtype\":3,\"trackcount\":\"22343271,21837278,21546473,21533684,21424593,21373050,21350661,21271108,21215672,21157808,21129031,21157452\",\"track_ids\":null,\"object_type\":3,\"status\":\"0\",\"share_url\":\"\\/playlist\\/gaana-dj-the-asha-verdict-season-2\",\"albumartwork_large\":\"https:\\/\\/a10.gaanacdn.com\\/images\\/playlists\\/87\\/9372087\\/crop_80x80_9372087_1510769038.jpg\",\"albumartwork\":\"https:\\/\\/a10.gaanacdn.com\\/images\\/playlists\\/87\\/9372087\\/crop_80x80_9372087_1510769038.jpg\",\"premium_content\":\"0\",\"albumtitle\":null,\"albumseokey\":null,\"parental_warning\":0,\"artist\":\"\",\"seokey\":\"gaana-dj-the-asha-verdict-season-2\",\"language\":\"Hindi\",\"isSponsored\":0,\"isAv_ad\":0,\"duration\":0}</span>, <span>The Asha Verdict Season 2</span>, <span class=\"_na\" id=\"parent-row-playlist8893353\" style=\"display:none\">{\"id\":\"8893353\",\"title\":\"The Unheard-Season 1\",\"index\":0,\"source\":3,\"source_id\":\"8893353\",\"content_source\":\"\",\"path\":\"\",\"objtype\":3,\"trackcount\":\"22189476,21905420,21783452,21626518,21577093,21533674,21465208,21405844,21291023,21236405,21167723,21115172,21075945,21036627\",\"track_ids\":null,\"object_type\":3,\"status\":\"0\",\"share_url\":\"\\/playlist\\/gaana-dj-the-unheard\",\"albumartwork_large\":\"https:\\/\\/a10.gaanacdn.com\\/images\\/playlists\\/53\\/8893353\\/crop_80x80_8893353_1510768686.jpg\",\"albumartwork\":\"https:\\/\\/a10.gaanacdn.com\\/images\\/playlists\\/53\\/8893353\\/crop_80x80_8893353_1510768686.jpg\",\"premium_content\":\"0\",\"albumtitle\":null,\"albumseokey\":null,\"parental_warning\":0,\"artist\":\"\",\"seokey\":\"gaana-dj-the-unheard\",\"language\":\"Hindi\",\"isSponsored\":0,\"isAv_ad\":0,\"duration\":0}</span>, <span>The Unheard-Season 1</span>, <span data-pjax=\"\">Horror and Thriller</span>, <span class=\"_na\" id=\"parent-row-playlist20085773\" style=\"display:none\">{\"id\":\"20085773\",\"title\":\"Kahaani Rooh Ki Season-3\",\"index\":0,\"source\":3,\"source_id\":\"20085773\",\"content_source\":\"\",\"path\":\"\",\"objtype\":3,\"trackcount\":\"23592362,23628579,23748998,23794263,23822208,23848715,23885286,23945035,23975073,23995832,24025382,24070181\",\"track_ids\":null,\"object_type\":3,\"status\":\"0\",\"share_url\":\"\\/playlist\\/gaana-dj-kahaani-rooh-ki-season-3\",\"albumartwork_large\":\"https:\\/\\/a10.gaanacdn.com\\/images\\/playlists\\/73\\/20085773\\/crop_80x80_20085773_1538809091.jpg\",\"albumartwork\":\"https:\\/\\/a10.gaanacdn.com\\/images\\/playlists\\/73\\/20085773\\/crop_80x80_20085773_1538809091.jpg\",\"premium_content\":\"0\",\"albumtitle\":null,\"albumseokey\":null,\"parental_warning\":0,\"artist\":\"\",\"seokey\":\"gaana-dj-kahaani-rooh-ki-season-3\",\"language\":\"Hindi\",\"isSponsored\":0,\"isAv_ad\":0,\"duration\":0}</span>, <span>Kahaani Rooh Ki Season-3</span>, <span class=\"_na\" id=\"parent-row-playlist16678965\" style=\"display:none\">{\"id\":\"16678965\",\"title\":\"Kahaani Rooh Ki Season-2\",\"index\":0,\"source\":3,\"source_id\":\"16678965\",\"content_source\":\"\",\"path\":\"\",\"objtype\":3,\"trackcount\":\"22973617,22995944,23019984,23043497,23068334,23100852,23123304,23158884,23180366,23219190,23260328,23300139\",\"track_ids\":null,\"object_type\":3,\"status\":\"0\",\"share_url\":\"\\/playlist\\/gaana-dj-kahaani-rooh-ki-season-2\",\"albumartwork_large\":\"https:\\/\\/a10.gaanacdn.com\\/images\\/playlists\\/65\\/16678965\\/crop_80x80_16678965_1522859369.jpg\",\"albumartwork\":\"https:\\/\\/a10.gaanacdn.com\\/images\\/playlists\\/65\\/16678965\\/crop_80x80_16678965_1522859369.jpg\",\"premium_content\":\"0\",\"albumtitle\":null,\"albumseokey\":null,\"parental_warning\":0,\"artist\":\"\",\"seokey\":\"gaana-dj-kahaani-rooh-ki-season-2\",\"language\":\"Hindi\",\"isSponsored\":0,\"isAv_ad\":0,\"duration\":0}</span>, <span>Kahaani Rooh Ki Season-2</span>, <span class=\"_na\" id=\"parent-row-playlist14258709\" style=\"display:none\">{\"id\":\"14258709\",\"title\":\"Kahaani Rooh Ki\",\"index\":0,\"source\":3,\"source_id\":\"14258709\",\"content_source\":\"\",\"path\":\"\",\"objtype\":3,\"trackcount\":\"22604973,22627804,22661371,22683981,22713434,22767404,22800787,22821145,22841600,22868595,22899698,22917158\",\"track_ids\":null,\"object_type\":3,\"status\":\"0\",\"share_url\":\"\\/playlist\\/gaana-dj-kahaani-rooh-ki\",\"albumartwork_large\":\"https:\\/\\/a10.gaanacdn.com\\/images\\/playlists\\/9\\/14258709\\/crop_80x80_14258709_1516194601.jpg\",\"albumartwork\":\"https:\\/\\/a10.gaanacdn.com\\/images\\/playlists\\/9\\/14258709\\/crop_80x80_14258709_1516194601.jpg\",\"premium_content\":\"0\",\"albumtitle\":null,\"albumseokey\":null,\"parental_warning\":0,\"artist\":\"\",\"seokey\":\"gaana-dj-kahaani-rooh-ki\",\"language\":\"Hindi\",\"isSponsored\":0,\"isAv_ad\":0,\"duration\":0}</span>, <span>Kahaani Rooh Ki</span>, <span class=\"_na\" id=\"parent-row-playlist6858733\" style=\"display:none\">{\"id\":\"6858733\",\"title\":\"Kahanibaaz Season 1\",\"index\":0,\"source\":3,\"source_id\":\"6858733\",\"content_source\":\"\",\"path\":\"\",\"objtype\":3,\"trackcount\":\"17992738,18067289,18375775,19419176,19481916,19551551,20532661,20614477,20726771,20801666\",\"track_ids\":null,\"object_type\":3,\"status\":\"0\",\"share_url\":\"\\/playlist\\/gaana-dj-kahanibaaz-ashish\",\"albumartwork_large\":\"https:\\/\\/a10.gaanacdn.com\\/images\\/playlists\\/33\\/6858733\\/crop_80x80_6858733_1510768760.jpg\",\"albumartwork\":\"https:\\/\\/a10.gaanacdn.com\\/images\\/playlists\\/33\\/6858733\\/crop_80x80_6858733_1510768760.jpg\",\"premium_content\":\"0\",\"albumtitle\":null,\"albumseokey\":null,\"parental_warning\":0,\"artist\":\"\",\"seokey\":\"gaana-dj-kahanibaaz-ashish\",\"language\":\"Hindi\",\"isSponsored\":0,\"isAv_ad\":0,\"duration\":0}</span>, <span>Kahanibaaz Season 1</span>, <span class=\"_na\" id=\"parent-row-playlist9595971\" style=\"display:none\">{\"id\":\"9595971\",\"title\":\"Kahanibaaz Season 2\",\"index\":0,\"source\":3,\"source_id\":\"9595971\",\"content_source\":\"\",\"path\":\"\",\"objtype\":3,\"trackcount\":\"21179367,21242619,21291626,21350051,21406388,21465785,21534852,21577199,21640046,21711742,22392588,22423487\",\"track_ids\":null,\"object_type\":3,\"status\":\"0\",\"share_url\":\"\\/playlist\\/gaana-dj-kahanibaaz-season-2\",\"albumartwork_large\":\"https:\\/\\/a10.gaanacdn.com\\/images\\/playlists\\/71\\/9595971\\/crop_80x80_9595971_1510768967.jpg\",\"albumartwork\":\"https:\\/\\/a10.gaanacdn.com\\/images\\/playlists\\/71\\/9595971\\/crop_80x80_9595971_1510768967.jpg\",\"premium_content\":\"0\",\"albumtitle\":null,\"albumseokey\":null,\"parental_warning\":0,\"artist\":\"\",\"seokey\":\"gaana-dj-kahanibaaz-season-2\",\"language\":\"Hindi\",\"isSponsored\":0,\"isAv_ad\":0,\"duration\":0}</span>, <span>Kahanibaaz Season 2</span>, <span data-pjax=\"\">Devotional</span>, <span class=\"_na\" id=\"parent-row-playlist20020868\" style=\"display:none\">{\"id\":\"20020868\",\"title\":\"Shuddh Vichaar\",\"index\":0,\"source\":3,\"source_id\":\"20020868\",\"content_source\":\"\",\"path\":\"\",\"objtype\":3,\"trackcount\":\"27948897,27905296,27853127,27819548,27757180,27614301,27452487,27344105,27214360,27001028,26922447,26749450,26577532,26422500,26259877,26111337,25953717,25913901,25876771,25830074,25751541,25638106,25628278,25576076,25544340,25433890,25396322,25340221,25270048,25201780,25089177,24998897,24787706,24691214,24629186,24598918,24566634,24533133,24447187,24404758,24362158,24343482,24322155,24292070,24271476,24242852,24217378,24180146,24150071,24126384,24091471,24062259,24021514,23982884,23962528,23936709,23861969,23837659,23816427,23785050,23721810,23615354,23586437\",\"track_ids\":null,\"object_type\":3,\"status\":\"0\",\"share_url\":\"\\/playlist\\/gaana-dj-shuddh-vichaar\",\"albumartwork_large\":\"https:\\/\\/a10.gaanacdn.com\\/images\\/playlists\\/68\\/20020868\\/crop_80x80_1565609503_20020868.jpg\",\"albumartwork\":\"https:\\/\\/a10.gaanacdn.com\\/images\\/playlists\\/68\\/20020868\\/crop_80x80_1565609503_20020868.jpg\",\"premium_content\":\"0\",\"albumtitle\":null,\"albumseokey\":null,\"parental_warning\":0,\"artist\":\"\",\"seokey\":\"gaana-dj-shuddh-vichaar\",\"language\":\"Hindi\",\"isSponsored\":0,\"isAv_ad\":0,\"duration\":0}</span>, <span>Shuddh Vichaar</span>, <span>|</span>, <span>|</span>, <span>|</span>, <span>|</span>, <span>|</span>, <span>|</span>, <span>|</span>, <span>|</span>, <span>|</span>, <span>|</span>, <span>|</span>, <span>|</span>, <span>|</span>, <span>|</span>, <span>|</span>, <span>|</span>, <span>|</span>, <span>|</span>, <span>|</span>, <span>|</span>, <span>|</span>, <span>|</span>, <span>|</span>, <span>|</span>, <span>|</span>, <span>|</span>, <span>|</span>, <span>|</span>, <span>|</span>, <span>|</span>, <span>|</span>, <span>|</span>, <span>|</span>, <span>|</span>, <span>|</span>, <span>|</span>, <span>|</span>, <span>|</span>, <span>|</span>, <span>|</span>, <span>|</span>, <span>|</span>, <span>|</span>, <span>|</span>, <span>|</span>, <span>|</span>, <span>|</span>, <span>|</span>, <span>|</span>, <span>|</span>, <span>|</span>, <span>|</span>, <span>|</span>, <span>|</span>, <span>|</span>, <span>|</span>, <span>|</span>, <span>|</span>, <span>|</span>, <span>|</span>, <span>|</span>, <span>|</span>, <span>|</span>, <span>|</span>, <span>|</span>, <span>|</span>, <span>|</span>, <span>|</span>, <span>|</span>, <span>|</span>, <span>|</span>, <span>|</span>, <span>|</span>, <span>|</span>, <span>|</span>, <span>|</span>, <span>|</span>, <span>|</span>, <span>|</span>, <span>|</span>, <span>|</span>, <span>|</span>, <span>|</span>, <span>|</span>, <span>|</span>, <span>|</span>, <span>|</span>, <span>|</span>, <span>|</span>, <span>|</span>, <span>|</span>, <span>|</span>, <span>|</span>, <span>|</span>, <span>|</span>, <span>|</span>, <span>|</span>, <span>|</span>, <span>|</span>, <span>|</span>, <span>|</span>, <span>|</span>, <span>|</span>, <span>|</span>, <span>|</span>, <span>|</span>, <span>|</span>, <span>|</span>, <span>|</span>, <span>|</span>, <span>|</span>, <span>|</span>, <span>|</span>, <span>Follow Us</span>, <span class=\"hideonmobile\">|</span>, <span>|</span>, <span class=\"hideonmobile\">|</span>, <span class=\"hideonmobile\">|</span>, <span class=\"hideonmobile\">|</span>, <span class=\"hideonmobile\">|</span>, <span class=\"hideonmobile\">|</span>, <span class=\"autocomplete-loader\"></span>, <span class=\"favtxtchange\" data-type=\"favorite\">Favorite</span>, <span>Singers</span>, <span class=\"songinfotext\" data-type=\"getsonginfo\">Get Song Info</span>]\n"
     ]
    }
   ],
   "source": [
    "print(containers)"
   ]
  },
  {
   "cell_type": "code",
   "execution_count": 1222,
   "metadata": {},
   "outputs": [],
   "source": [
    "containers = page_soup.findAll(\"span\",class_=\"_na\")"
   ]
  },
  {
   "cell_type": "code",
   "execution_count": 1223,
   "metadata": {},
   "outputs": [
    {
     "name": "stdout",
     "output_type": "stream",
     "text": [
      "[<span class=\"_na\" id=\"parent-row-playlist19993101\" style=\"display:none\">{\"id\":\"19993101\",\"title\":\"Ek Rang Ishq Ka Season-3\",\"index\":0,\"source\":3,\"source_id\":\"19993101\",\"content_source\":\"\",\"path\":\"\",\"objtype\":3,\"trackcount\":\"23582510,23611305,23645749,23770780,23811756,23828109,23861973,23916655,23959397,23977650,24003028,24045005,24085910\",\"track_ids\":null,\"object_type\":3,\"status\":\"0\",\"share_url\":\"\\/playlist\\/gaana-dj-ek-rang-ishq-ka-season-3\",\"albumartwork_large\":\"https:\\/\\/a10.gaanacdn.com\\/images\\/playlists\\/1\\/19993101\\/crop_80x80_19993101_1538809302.jpg\",\"albumartwork\":\"https:\\/\\/a10.gaanacdn.com\\/images\\/playlists\\/1\\/19993101\\/crop_80x80_19993101_1538809302.jpg\",\"premium_content\":\"0\",\"albumtitle\":null,\"albumseokey\":null,\"parental_warning\":0,\"artist\":\"\",\"seokey\":\"gaana-dj-ek-rang-ishq-ka-season-3\",\"language\":\"Hindi\",\"isSponsored\":0,\"isAv_ad\":0,\"duration\":0}</span>, <span class=\"_na\" id=\"parent-row-playlist20345738\" style=\"display:none\">{\"id\":\"20345738\",\"title\":\"Luv Shuv Etc with Sunny S\",\"index\":0,\"source\":3,\"source_id\":\"20345738\",\"content_source\":\"\",\"path\":\"\",\"objtype\":3,\"trackcount\":\"23633272,23766590,23802394,23826064,23855981,23907651,23950479,23976511,23998450,24031372,24075811,24106245,24137639,24159309,24196562,24228843,24254381,24277304,24305321,24333419,24352155,24371126,24412559,24482295,24550213\",\"track_ids\":null,\"object_type\":3,\"status\":\"0\",\"share_url\":\"\\/playlist\\/gaana-dj-luv-shuv-etc-with-sunny-s\",\"albumartwork_large\":\"https:\\/\\/a10.gaanacdn.com\\/images\\/playlists\\/38\\/20345738\\/crop_80x80_1557995017_20345738.jpg\",\"albumartwork\":\"https:\\/\\/a10.gaanacdn.com\\/images\\/playlists\\/38\\/20345738\\/crop_80x80_1557995017_20345738.jpg\",\"premium_content\":\"0\",\"albumtitle\":null,\"albumseokey\":null,\"parental_warning\":0,\"artist\":\"\",\"seokey\":\"gaana-dj-luv-shuv-etc-with-sunny-s\",\"language\":\"Hindi\",\"isSponsored\":0,\"isAv_ad\":0,\"duration\":0}</span>, <span class=\"_na\" id=\"parent-row-playlist16793989\" style=\"display:none\">{\"id\":\"16793989\",\"title\":\"Ek Rang Ishq Ka Season-2\",\"index\":0,\"source\":3,\"source_id\":\"16793989\",\"content_source\":\"\",\"path\":\"\",\"objtype\":3,\"trackcount\":\"22992050,22996392,23034502,23062208,23077992,23109256,23134314,23164146,23188719,23232097,23262154,23344191,23397490\",\"track_ids\":null,\"object_type\":3,\"status\":\"0\",\"share_url\":\"\\/playlist\\/gaana-dj-ek-rang-ishq-ka-season-2\",\"albumartwork_large\":\"https:\\/\\/a10.gaanacdn.com\\/images\\/playlists\\/89\\/16793989\\/crop_80x80_16793989_1524839588.jpg\",\"albumartwork\":\"https:\\/\\/a10.gaanacdn.com\\/images\\/playlists\\/89\\/16793989\\/crop_80x80_16793989_1524839588.jpg\",\"premium_content\":\"0\",\"albumtitle\":null,\"albumseokey\":null,\"parental_warning\":0,\"artist\":\"\",\"seokey\":\"gaana-dj-ek-rang-ishq-ka-season-2\",\"language\":\"Hindi\",\"isSponsored\":0,\"isAv_ad\":0,\"duration\":0}</span>, <span class=\"_na\" id=\"parent-row-playlist14194747\" style=\"display:none\">{\"id\":\"14194747\",\"title\":\"EK Rang Ishq Ka\",\"index\":0,\"source\":3,\"source_id\":\"14194747\",\"content_source\":\"\",\"path\":\"\",\"objtype\":3,\"trackcount\":\"22594888,22623822,22631539,22668815,22706251,22729988,22790245,22810324,22831982,22852483,22883094,22907654,22929914\",\"track_ids\":null,\"object_type\":3,\"status\":\"0\",\"share_url\":\"\\/playlist\\/gaana-dj-ek-rang-ishq-ka\",\"albumartwork_large\":\"https:\\/\\/a10.gaanacdn.com\\/images\\/playlists\\/47\\/14194747\\/crop_80x80_14194747_1541239447.jpg\",\"albumartwork\":\"https:\\/\\/a10.gaanacdn.com\\/images\\/playlists\\/47\\/14194747\\/crop_80x80_14194747_1541239447.jpg\",\"premium_content\":\"0\",\"albumtitle\":null,\"albumseokey\":null,\"parental_warning\":0,\"artist\":\"\",\"seokey\":\"gaana-dj-ek-rang-ishq-ka\",\"language\":\"Hindi\",\"isSponsored\":0,\"isAv_ad\":0,\"duration\":0}</span>, <span class=\"_na\" id=\"parent-row-playlist16651925\" style=\"display:none\">{\"id\":\"16651925\",\"title\":\"Riyas Retro Season 3\",\"index\":0,\"source\":3,\"source_id\":\"16651925\",\"content_source\":\"\",\"path\":\"\",\"objtype\":3,\"trackcount\":\"22969267,22993333,23015329,23035583,23062594,23093463,23120759,23120760,23153251,23175590,23191886,23241586,23297459,23346789,23407938,23483171,23513138,23544805,23566221,23587634,23621113,23738927,23785051,23817381,23839489,23876339,23940378,23968765,23992547,24100990,24064302,24094472,24127787,24150685,24183374,24218801,24245105,24272386,24292071,24324199,24344304,24363516,24406188,24458214,24534413,24568458,24599518,24625584,24693606,24796446,25024147\",\"track_ids\":null,\"object_type\":3,\"status\":\"0\",\"share_url\":\"\\/playlist\\/gaana-dj-riyas-retro-season-3\",\"albumartwork_large\":\"https:\\/\\/a10.gaanacdn.com\\/images\\/playlists\\/25\\/16651925\\/crop_80x80_16651925_1546946305.jpg\",\"albumartwork\":\"https:\\/\\/a10.gaanacdn.com\\/images\\/playlists\\/25\\/16651925\\/crop_80x80_16651925_1546946305.jpg\",\"premium_content\":\"0\",\"albumtitle\":null,\"albumseokey\":null,\"parental_warning\":0,\"artist\":\"\",\"seokey\":\"gaana-dj-riyas-retro-season-3\",\"language\":\"Hindi\",\"isSponsored\":0,\"isAv_ad\":0,\"duration\":0}</span>, <span class=\"_na\" id=\"parent-row-playlist9477595\" style=\"display:none\">{\"id\":\"9477595\",\"title\":\"Riyas Retro Season 2\",\"index\":0,\"source\":3,\"source_id\":\"9477595\",\"content_source\":\"\",\"path\":\"\",\"objtype\":3,\"trackcount\":\"21200055,21236665,21262795,21293033,21336125,21347660,21367264,21418173,21435595,21465784,21498468,21534851,21552662,21577196,21597241,21627217,21663009,21710500,21777226,21803282,21905422,22054584,22189819,22264163,22348594,22370809,22441041,22419151,22440904,22458733,22483460,22503513,22539834,22567615,22595756,22624851,22653318,22676695,22707364,22757139,22800786,22816545,22836248,22864151,22895082,22914959\",\"track_ids\":null,\"object_type\":3,\"status\":\"0\",\"share_url\":\"\\/playlist\\/gaana-dj-riyas-retro-season-2\",\"albumartwork_large\":\"https:\\/\\/a10.gaanacdn.com\\/images\\/playlists\\/95\\/9477595\\/crop_80x80_9477595_1515166914.jpg\",\"albumartwork\":\"https:\\/\\/a10.gaanacdn.com\\/images\\/playlists\\/95\\/9477595\\/crop_80x80_9477595_1515166914.jpg\",\"premium_content\":\"0\",\"albumtitle\":null,\"albumseokey\":null,\"parental_warning\":0,\"artist\":\"\",\"seokey\":\"gaana-dj-riyas-retro-season-2\",\"language\":\"Hindi\",\"isSponsored\":0,\"isAv_ad\":0,\"duration\":0}</span>, <span class=\"_na\" id=\"parent-row-playlist6128838\" style=\"display:none\">{\"id\":\"6128838\",\"title\":\"Riyas Retro Season 1\",\"index\":0,\"source\":3,\"source_id\":\"6128838\",\"content_source\":\"\",\"path\":\"\",\"objtype\":3,\"trackcount\":\"17532620,17631714,17689104,17711983,17765412,17794367,17851051,17889931,17932744,17961189,17992740,18041760,18067286,18107951,18378819,19396713,19419174,19439191,19481909,19515058,19551283,19925672,20532660,20597161,20614476,20657123,20737342,20763467,20772526,20848642,20905813,20961208,20987100,21018661,21036626,21062558,21076394\",\"track_ids\":null,\"object_type\":3,\"status\":\"0\",\"share_url\":\"\\/playlist\\/gaana-dj-riyas-retro-playlist\",\"albumartwork_large\":\"https:\\/\\/a10.gaanacdn.com\\/images\\/playlists\\/38\\/6128838\\/crop_80x80_1548140621_6128838.jpg\",\"albumartwork\":\"https:\\/\\/a10.gaanacdn.com\\/images\\/playlists\\/38\\/6128838\\/crop_80x80_1548140621_6128838.jpg\",\"premium_content\":\"0\",\"albumtitle\":null,\"albumseokey\":null,\"parental_warning\":0,\"artist\":\"\",\"seokey\":\"gaana-dj-riyas-retro-playlist\",\"language\":\"Hindi\",\"isSponsored\":0,\"isAv_ad\":0,\"duration\":0}</span>, <span class=\"_na\" id=\"parent-row-playlist17359560\" style=\"display:none\">{\"id\":\"17359560\",\"title\":\"Not So Bollywood Season 2\",\"index\":0,\"source\":3,\"source_id\":\"17359560\",\"content_source\":\"\",\"path\":\"\",\"objtype\":3,\"trackcount\":\"23062210,23092219,23109764,23133701,23174318,23190207,23239939,23263552,23344545,23397670,23460947,23509458,23544304,23565712,23586278,23611383,23744227,23771109,23811757,23832788,23873394,23932658,23961783,23978515,24020787,24045006,24126420,24125599,24148726,24175179,24215001,24242186,24271091,24291122,24320725,24341563,24359683,24397553,24426290,24495692,24560953,24598218,24612453,24684747,24787052,24949527,25089225\",\"track_ids\":null,\"object_type\":3,\"status\":\"0\",\"share_url\":\"\\/playlist\\/gaana-dj-not-so-bollywood-season-2\",\"albumartwork_large\":\"https:\\/\\/a10.gaanacdn.com\\/images\\/playlists\\/60\\/17359560\\/crop_80x80_1555327562_17359560.jpg\",\"albumartwork\":\"https:\\/\\/a10.gaanacdn.com\\/images\\/playlists\\/60\\/17359560\\/crop_80x80_1555327562_17359560.jpg\",\"premium_content\":\"0\",\"albumtitle\":null,\"albumseokey\":null,\"parental_warning\":0,\"artist\":\"\",\"seokey\":\"gaana-dj-not-so-bollywood-season-2\",\"language\":\"Hindi\",\"isSponsored\":0,\"isAv_ad\":0,\"duration\":0}</span>, <span class=\"_na\" id=\"parent-row-playlist8768100\" style=\"display:none\">{\"id\":\"8768100\",\"title\":\"Not So Bollywood\",\"index\":0,\"source\":3,\"source_id\":\"8768100\",\"content_source\":\"\",\"path\":\"\",\"objtype\":3,\"trackcount\":\"22913044,22893312,22862379,22831983,22815955,22794778,22746502,22706250,22676303,22652158,22624425,22594883,22565591,22539762,22502798,22481141,22457829,22438861,22417762,22399509,22364771,22347986,22189513,22189328,22053703,21904132,21852214,21819258,21802645,21774543,21696974,21658745,21616734,21596118,21576969,21546454,21532333,21494369,21465207,21435398,21391811,21361641,21346786,21321691,21290364,21262132,21230596,21192119,21167649,21136353,21106086,21091029,21075877,21045670,21036624,20997447\",\"track_ids\":null,\"object_type\":3,\"status\":\"0\",\"share_url\":\"\\/playlist\\/gaana-dj-not-so-bollywood\",\"albumartwork_large\":\"https:\\/\\/a10.gaanacdn.com\\/images\\/playlists\\/0\\/8768100\\/crop_80x80_8768100_1516101462.jpg\",\"albumartwork\":\"https:\\/\\/a10.gaanacdn.com\\/images\\/playlists\\/0\\/8768100\\/crop_80x80_8768100_1516101462.jpg\",\"premium_content\":\"0\",\"albumtitle\":null,\"albumseokey\":null,\"parental_warning\":0,\"artist\":\"\",\"seokey\":\"gaana-dj-not-so-bollywood\",\"language\":\"Hindi\",\"isSponsored\":0,\"isAv_ad\":0,\"duration\":0}</span>, <span class=\"_na\" id=\"parent-row-playlist7844194\" style=\"display:none\">{\"id\":\"7844194\",\"title\":\"Best of Planet Bollywood\",\"index\":0,\"source\":3,\"source_id\":\"7844194\",\"content_source\":\"\",\"path\":\"\",\"objtype\":3,\"trackcount\":\"23479099,23401312,23346483,23296927,23241057,23191284,23174755,23152339,23109872,23092758,23062593,23034752,23013938,22919759,22914866,22893556,22863777,22835877,22812996,22795378,22750659,22706842,22676450,22652442,22624524,22594988,22550361,22539833,22502968,22481732,22458143,22439721,22418808,22419106,22370712,22348191,22189477,22054012,21905421,21846083,21827674,21802844,21776367,21689415,21610988,21596360,21577094,21552453,21533678,21494731,21465339,21435596,21405822,21367262,21347657,21328538,21290866,21262276,21236301,21199595,21158116,21141998,21114620,21092398,21075914,21046027,21036625,20998051,20985069,20959630,20895201,20848567,20772525,20763471,20726753,20657121,20614475,20596635\",\"track_ids\":null,\"object_type\":3,\"status\":\"0\",\"share_url\":\"\\/playlist\\/gaana-dj-best-of-planet-bollywood\",\"albumartwork_large\":\"https:\\/\\/a10.gaanacdn.com\\/images\\/playlists\\/94\\/7844194\\/crop_80x80_7844194_1524569904.jpg\",\"albumartwork\":\"https:\\/\\/a10.gaanacdn.com\\/images\\/playlists\\/94\\/7844194\\/crop_80x80_7844194_1524569904.jpg\",\"premium_content\":\"0\",\"albumtitle\":null,\"albumseokey\":null,\"parental_warning\":0,\"artist\":\"\",\"seokey\":\"gaana-dj-best-of-planet-bollywood\",\"language\":\"Hindi\",\"isSponsored\":0,\"isAv_ad\":0,\"duration\":0}</span>, <span class=\"_na\" id=\"parent-row-playlist7857652\" style=\"display:none\">{\"id\":\"7857652\",\"title\":\"Best of 30 mein 30\",\"index\":0,\"source\":3,\"source_id\":\"7857652\",\"content_source\":\"\",\"path\":\"\",\"objtype\":3,\"trackcount\":\"23483172,23407696,23346792,23297460,23241587,23191888,23175589,23153262,23120802,23093500,23063196,23035714,23015331,22922483,22914961,22894871,22864168,22836178,22816647,22795551,22757138,22707366,22676696,22653365,22625065,22595758,22567616,22540212,22503529,22483463,22458867,22440921,22419152,22399886,22370814,22348593,22264164,22055089,21905826,21852568,21827943,21803281,21777225,21704038,21627219,21597243,21577198,21552815,21536510,21498467,21469480,21439204,21406606,21367261,21349015,21330336,21291623,21262799,21236668,21200327,21178711,21142004,21117369,21093213,21076395,21062560,21040406,20998746,20987118,20961209,20915478,20848911,20772527,20763486,20737302,20658459,20625971,20597162\",\"track_ids\":null,\"object_type\":3,\"status\":\"0\",\"share_url\":\"\\/playlist\\/gaana-dj-best-of-30-mein-30\",\"albumartwork_large\":\"https:\\/\\/a10.gaanacdn.com\\/images\\/playlists\\/52\\/7857652\\/crop_80x80_7857652_1524589940.jpg\",\"albumartwork\":\"https:\\/\\/a10.gaanacdn.com\\/images\\/playlists\\/52\\/7857652\\/crop_80x80_7857652_1524589940.jpg\",\"premium_content\":\"0\",\"albumtitle\":null,\"albumseokey\":null,\"parental_warning\":0,\"artist\":\"\",\"seokey\":\"gaana-dj-best-of-30-mein-30\",\"language\":\"Hindi\",\"isSponsored\":0,\"isAv_ad\":0,\"duration\":0}</span>, <span class=\"_na\" id=\"parent-row-playlist7096774\" style=\"display:none\">{\"id\":\"7096774\",\"title\":\"The Asha Verdict\",\"index\":0,\"source\":3,\"source_id\":\"7096774\",\"content_source\":\"\",\"path\":\"\",\"objtype\":3,\"trackcount\":\"21045821,20987227,20961096,20915526,20755706,20946700,20737874,20026347,19540538,19480817,19501232,19396714,18122579\",\"track_ids\":null,\"object_type\":3,\"status\":\"0\",\"share_url\":\"\\/playlist\\/gaana-dj-the-asha-verdict\",\"albumartwork_large\":\"https:\\/\\/a10.gaanacdn.com\\/images\\/playlists\\/74\\/7096774\\/crop_80x80_7096774_1510768824.jpg\",\"albumartwork\":\"https:\\/\\/a10.gaanacdn.com\\/images\\/playlists\\/74\\/7096774\\/crop_80x80_7096774_1510768824.jpg\",\"premium_content\":\"0\",\"albumtitle\":null,\"albumseokey\":null,\"parental_warning\":0,\"artist\":\"\",\"seokey\":\"gaana-dj-the-asha-verdict\",\"language\":\"Hindi\",\"isSponsored\":0,\"isAv_ad\":0,\"duration\":0}</span>, <span class=\"_na\" id=\"parent-row-playlist9372087\" style=\"display:none\">{\"id\":\"9372087\",\"title\":\"The Asha Verdict Season 2\",\"index\":0,\"source\":3,\"source_id\":\"9372087\",\"content_source\":\"\",\"path\":\"\",\"objtype\":3,\"trackcount\":\"22343271,21837278,21546473,21533684,21424593,21373050,21350661,21271108,21215672,21157808,21129031,21157452\",\"track_ids\":null,\"object_type\":3,\"status\":\"0\",\"share_url\":\"\\/playlist\\/gaana-dj-the-asha-verdict-season-2\",\"albumartwork_large\":\"https:\\/\\/a10.gaanacdn.com\\/images\\/playlists\\/87\\/9372087\\/crop_80x80_9372087_1510769038.jpg\",\"albumartwork\":\"https:\\/\\/a10.gaanacdn.com\\/images\\/playlists\\/87\\/9372087\\/crop_80x80_9372087_1510769038.jpg\",\"premium_content\":\"0\",\"albumtitle\":null,\"albumseokey\":null,\"parental_warning\":0,\"artist\":\"\",\"seokey\":\"gaana-dj-the-asha-verdict-season-2\",\"language\":\"Hindi\",\"isSponsored\":0,\"isAv_ad\":0,\"duration\":0}</span>, <span class=\"_na\" id=\"parent-row-playlist8893353\" style=\"display:none\">{\"id\":\"8893353\",\"title\":\"The Unheard-Season 1\",\"index\":0,\"source\":3,\"source_id\":\"8893353\",\"content_source\":\"\",\"path\":\"\",\"objtype\":3,\"trackcount\":\"22189476,21905420,21783452,21626518,21577093,21533674,21465208,21405844,21291023,21236405,21167723,21115172,21075945,21036627\",\"track_ids\":null,\"object_type\":3,\"status\":\"0\",\"share_url\":\"\\/playlist\\/gaana-dj-the-unheard\",\"albumartwork_large\":\"https:\\/\\/a10.gaanacdn.com\\/images\\/playlists\\/53\\/8893353\\/crop_80x80_8893353_1510768686.jpg\",\"albumartwork\":\"https:\\/\\/a10.gaanacdn.com\\/images\\/playlists\\/53\\/8893353\\/crop_80x80_8893353_1510768686.jpg\",\"premium_content\":\"0\",\"albumtitle\":null,\"albumseokey\":null,\"parental_warning\":0,\"artist\":\"\",\"seokey\":\"gaana-dj-the-unheard\",\"language\":\"Hindi\",\"isSponsored\":0,\"isAv_ad\":0,\"duration\":0}</span>, <span class=\"_na\" id=\"parent-row-playlist20085773\" style=\"display:none\">{\"id\":\"20085773\",\"title\":\"Kahaani Rooh Ki Season-3\",\"index\":0,\"source\":3,\"source_id\":\"20085773\",\"content_source\":\"\",\"path\":\"\",\"objtype\":3,\"trackcount\":\"23592362,23628579,23748998,23794263,23822208,23848715,23885286,23945035,23975073,23995832,24025382,24070181\",\"track_ids\":null,\"object_type\":3,\"status\":\"0\",\"share_url\":\"\\/playlist\\/gaana-dj-kahaani-rooh-ki-season-3\",\"albumartwork_large\":\"https:\\/\\/a10.gaanacdn.com\\/images\\/playlists\\/73\\/20085773\\/crop_80x80_20085773_1538809091.jpg\",\"albumartwork\":\"https:\\/\\/a10.gaanacdn.com\\/images\\/playlists\\/73\\/20085773\\/crop_80x80_20085773_1538809091.jpg\",\"premium_content\":\"0\",\"albumtitle\":null,\"albumseokey\":null,\"parental_warning\":0,\"artist\":\"\",\"seokey\":\"gaana-dj-kahaani-rooh-ki-season-3\",\"language\":\"Hindi\",\"isSponsored\":0,\"isAv_ad\":0,\"duration\":0}</span>, <span class=\"_na\" id=\"parent-row-playlist16678965\" style=\"display:none\">{\"id\":\"16678965\",\"title\":\"Kahaani Rooh Ki Season-2\",\"index\":0,\"source\":3,\"source_id\":\"16678965\",\"content_source\":\"\",\"path\":\"\",\"objtype\":3,\"trackcount\":\"22973617,22995944,23019984,23043497,23068334,23100852,23123304,23158884,23180366,23219190,23260328,23300139\",\"track_ids\":null,\"object_type\":3,\"status\":\"0\",\"share_url\":\"\\/playlist\\/gaana-dj-kahaani-rooh-ki-season-2\",\"albumartwork_large\":\"https:\\/\\/a10.gaanacdn.com\\/images\\/playlists\\/65\\/16678965\\/crop_80x80_16678965_1522859369.jpg\",\"albumartwork\":\"https:\\/\\/a10.gaanacdn.com\\/images\\/playlists\\/65\\/16678965\\/crop_80x80_16678965_1522859369.jpg\",\"premium_content\":\"0\",\"albumtitle\":null,\"albumseokey\":null,\"parental_warning\":0,\"artist\":\"\",\"seokey\":\"gaana-dj-kahaani-rooh-ki-season-2\",\"language\":\"Hindi\",\"isSponsored\":0,\"isAv_ad\":0,\"duration\":0}</span>, <span class=\"_na\" id=\"parent-row-playlist14258709\" style=\"display:none\">{\"id\":\"14258709\",\"title\":\"Kahaani Rooh Ki\",\"index\":0,\"source\":3,\"source_id\":\"14258709\",\"content_source\":\"\",\"path\":\"\",\"objtype\":3,\"trackcount\":\"22604973,22627804,22661371,22683981,22713434,22767404,22800787,22821145,22841600,22868595,22899698,22917158\",\"track_ids\":null,\"object_type\":3,\"status\":\"0\",\"share_url\":\"\\/playlist\\/gaana-dj-kahaani-rooh-ki\",\"albumartwork_large\":\"https:\\/\\/a10.gaanacdn.com\\/images\\/playlists\\/9\\/14258709\\/crop_80x80_14258709_1516194601.jpg\",\"albumartwork\":\"https:\\/\\/a10.gaanacdn.com\\/images\\/playlists\\/9\\/14258709\\/crop_80x80_14258709_1516194601.jpg\",\"premium_content\":\"0\",\"albumtitle\":null,\"albumseokey\":null,\"parental_warning\":0,\"artist\":\"\",\"seokey\":\"gaana-dj-kahaani-rooh-ki\",\"language\":\"Hindi\",\"isSponsored\":0,\"isAv_ad\":0,\"duration\":0}</span>, <span class=\"_na\" id=\"parent-row-playlist6858733\" style=\"display:none\">{\"id\":\"6858733\",\"title\":\"Kahanibaaz Season 1\",\"index\":0,\"source\":3,\"source_id\":\"6858733\",\"content_source\":\"\",\"path\":\"\",\"objtype\":3,\"trackcount\":\"17992738,18067289,18375775,19419176,19481916,19551551,20532661,20614477,20726771,20801666\",\"track_ids\":null,\"object_type\":3,\"status\":\"0\",\"share_url\":\"\\/playlist\\/gaana-dj-kahanibaaz-ashish\",\"albumartwork_large\":\"https:\\/\\/a10.gaanacdn.com\\/images\\/playlists\\/33\\/6858733\\/crop_80x80_6858733_1510768760.jpg\",\"albumartwork\":\"https:\\/\\/a10.gaanacdn.com\\/images\\/playlists\\/33\\/6858733\\/crop_80x80_6858733_1510768760.jpg\",\"premium_content\":\"0\",\"albumtitle\":null,\"albumseokey\":null,\"parental_warning\":0,\"artist\":\"\",\"seokey\":\"gaana-dj-kahanibaaz-ashish\",\"language\":\"Hindi\",\"isSponsored\":0,\"isAv_ad\":0,\"duration\":0}</span>, <span class=\"_na\" id=\"parent-row-playlist9595971\" style=\"display:none\">{\"id\":\"9595971\",\"title\":\"Kahanibaaz Season 2\",\"index\":0,\"source\":3,\"source_id\":\"9595971\",\"content_source\":\"\",\"path\":\"\",\"objtype\":3,\"trackcount\":\"21179367,21242619,21291626,21350051,21406388,21465785,21534852,21577199,21640046,21711742,22392588,22423487\",\"track_ids\":null,\"object_type\":3,\"status\":\"0\",\"share_url\":\"\\/playlist\\/gaana-dj-kahanibaaz-season-2\",\"albumartwork_large\":\"https:\\/\\/a10.gaanacdn.com\\/images\\/playlists\\/71\\/9595971\\/crop_80x80_9595971_1510768967.jpg\",\"albumartwork\":\"https:\\/\\/a10.gaanacdn.com\\/images\\/playlists\\/71\\/9595971\\/crop_80x80_9595971_1510768967.jpg\",\"premium_content\":\"0\",\"albumtitle\":null,\"albumseokey\":null,\"parental_warning\":0,\"artist\":\"\",\"seokey\":\"gaana-dj-kahanibaaz-season-2\",\"language\":\"Hindi\",\"isSponsored\":0,\"isAv_ad\":0,\"duration\":0}</span>, <span class=\"_na\" id=\"parent-row-playlist20020868\" style=\"display:none\">{\"id\":\"20020868\",\"title\":\"Shuddh Vichaar\",\"index\":0,\"source\":3,\"source_id\":\"20020868\",\"content_source\":\"\",\"path\":\"\",\"objtype\":3,\"trackcount\":\"27948897,27905296,27853127,27819548,27757180,27614301,27452487,27344105,27214360,27001028,26922447,26749450,26577532,26422500,26259877,26111337,25953717,25913901,25876771,25830074,25751541,25638106,25628278,25576076,25544340,25433890,25396322,25340221,25270048,25201780,25089177,24998897,24787706,24691214,24629186,24598918,24566634,24533133,24447187,24404758,24362158,24343482,24322155,24292070,24271476,24242852,24217378,24180146,24150071,24126384,24091471,24062259,24021514,23982884,23962528,23936709,23861969,23837659,23816427,23785050,23721810,23615354,23586437\",\"track_ids\":null,\"object_type\":3,\"status\":\"0\",\"share_url\":\"\\/playlist\\/gaana-dj-shuddh-vichaar\",\"albumartwork_large\":\"https:\\/\\/a10.gaanacdn.com\\/images\\/playlists\\/68\\/20020868\\/crop_80x80_1565609503_20020868.jpg\",\"albumartwork\":\"https:\\/\\/a10.gaanacdn.com\\/images\\/playlists\\/68\\/20020868\\/crop_80x80_1565609503_20020868.jpg\",\"premium_content\":\"0\",\"albumtitle\":null,\"albumseokey\":null,\"parental_warning\":0,\"artist\":\"\",\"seokey\":\"gaana-dj-shuddh-vichaar\",\"language\":\"Hindi\",\"isSponsored\":0,\"isAv_ad\":0,\"duration\":0}</span>]\n"
     ]
    }
   ],
   "source": [
    "print(containers)"
   ]
  },
  {
   "cell_type": "code",
   "execution_count": 1224,
   "metadata": {},
   "outputs": [],
   "source": [
    "#import xlsxwriter\n"
   ]
  },
  {
   "cell_type": "code",
   "execution_count": 1225,
   "metadata": {},
   "outputs": [],
   "source": [
    "#workbook = xlsxwriter.Workbook('C:/Users/Manoj VTION/Desktop/ayushi.xlsx')"
   ]
  },
  {
   "cell_type": "code",
   "execution_count": 1226,
   "metadata": {},
   "outputs": [],
   "source": [
    "#worksheet = workbook.add_worksheet()"
   ]
  },
  {
   "cell_type": "code",
   "execution_count": 1227,
   "metadata": {},
   "outputs": [],
   "source": [
    "#Headlines = [\"Pid\", \"Date\", \"Cost\", \"Webpage\", \"Pic\", \"Desc\", \"Created Date\"]\n",
    "#row = 0"
   ]
  },
  {
   "cell_type": "code",
   "execution_count": 1228,
   "metadata": {},
   "outputs": [],
   "source": [
    "#import json"
   ]
  },
  {
   "cell_type": "code",
   "execution_count": 1229,
   "metadata": {},
   "outputs": [],
   "source": [
    "#containers.to_json(\"C:/Users/Manoj VTION/Desktop/hello.json\")"
   ]
  },
  {
   "cell_type": "code",
   "execution_count": 1230,
   "metadata": {},
   "outputs": [],
   "source": [
    "#cont = page_soup.findAll(\"span\")"
   ]
  },
  {
   "cell_type": "code",
   "execution_count": 1231,
   "metadata": {},
   "outputs": [],
   "source": [
    "#song = cont.findAll(\"span\")"
   ]
  },
  {
   "cell_type": "code",
   "execution_count": 1232,
   "metadata": {},
   "outputs": [],
   "source": [
    "#print(cont[\"id\"])"
   ]
  },
  {
   "cell_type": "code",
   "execution_count": 1233,
   "metadata": {},
   "outputs": [],
   "source": [
    "#for span in soup.findAll('span'):\n",
    " #   print(span['id'])\n",
    "    \n"
   ]
  },
  {
   "cell_type": "code",
   "execution_count": 1234,
   "metadata": {},
   "outputs": [],
   "source": [
    "#for span in soup.findAll('span'):\n",
    "#    print(span['id'], span.text)"
   ]
  },
  {
   "cell_type": "code",
   "execution_count": 1235,
   "metadata": {},
   "outputs": [],
   "source": [
    "#containers = page_soup.findAll(\"span\",id=\"parent-row-song27959026\")"
   ]
  },
  {
   "cell_type": "code",
   "execution_count": 1236,
   "metadata": {},
   "outputs": [],
   "source": [
    "#containers"
   ]
  },
  {
   "cell_type": "code",
   "execution_count": 1237,
   "metadata": {},
   "outputs": [],
   "source": [
    "import pandas as pd"
   ]
  },
  {
   "cell_type": "code",
   "execution_count": 1238,
   "metadata": {},
   "outputs": [],
   "source": [
    "df= pd.DataFrame(containers)"
   ]
  },
  {
   "cell_type": "code",
   "execution_count": 1239,
   "metadata": {},
   "outputs": [],
   "source": [
    "#df.to_dict()"
   ]
  },
  {
   "cell_type": "code",
   "execution_count": 1240,
   "metadata": {},
   "outputs": [
    {
     "data": {
      "text/html": [
       "<div>\n",
       "<style scoped>\n",
       "    .dataframe tbody tr th:only-of-type {\n",
       "        vertical-align: middle;\n",
       "    }\n",
       "\n",
       "    .dataframe tbody tr th {\n",
       "        vertical-align: top;\n",
       "    }\n",
       "\n",
       "    .dataframe thead th {\n",
       "        text-align: right;\n",
       "    }\n",
       "</style>\n",
       "<table border=\"1\" class=\"dataframe\">\n",
       "  <thead>\n",
       "    <tr style=\"text-align: right;\">\n",
       "      <th></th>\n",
       "      <th>0</th>\n",
       "    </tr>\n",
       "  </thead>\n",
       "  <tbody>\n",
       "    <tr>\n",
       "      <th>0</th>\n",
       "      <td>&lt;span class=\"_na\" id=\"parent-row-playlist19993...</td>\n",
       "    </tr>\n",
       "    <tr>\n",
       "      <th>1</th>\n",
       "      <td>&lt;span class=\"_na\" id=\"parent-row-playlist20345...</td>\n",
       "    </tr>\n",
       "    <tr>\n",
       "      <th>2</th>\n",
       "      <td>&lt;span class=\"_na\" id=\"parent-row-playlist16793...</td>\n",
       "    </tr>\n",
       "    <tr>\n",
       "      <th>3</th>\n",
       "      <td>&lt;span class=\"_na\" id=\"parent-row-playlist14194...</td>\n",
       "    </tr>\n",
       "    <tr>\n",
       "      <th>4</th>\n",
       "      <td>&lt;span class=\"_na\" id=\"parent-row-playlist16651...</td>\n",
       "    </tr>\n",
       "  </tbody>\n",
       "</table>\n",
       "</div>"
      ],
      "text/plain": [
       "                                                   0\n",
       "0  <span class=\"_na\" id=\"parent-row-playlist19993...\n",
       "1  <span class=\"_na\" id=\"parent-row-playlist20345...\n",
       "2  <span class=\"_na\" id=\"parent-row-playlist16793...\n",
       "3  <span class=\"_na\" id=\"parent-row-playlist14194...\n",
       "4  <span class=\"_na\" id=\"parent-row-playlist16651..."
      ]
     },
     "execution_count": 1240,
     "metadata": {},
     "output_type": "execute_result"
    }
   ],
   "source": [
    "df.head()"
   ]
  },
  {
   "cell_type": "code",
   "execution_count": 1241,
   "metadata": {},
   "outputs": [
    {
     "data": {
      "text/plain": [
       "(20, 1)"
      ]
     },
     "execution_count": 1241,
     "metadata": {},
     "output_type": "execute_result"
    }
   ],
   "source": [
    "df.shape"
   ]
  },
  {
   "cell_type": "code",
   "execution_count": 1242,
   "metadata": {},
   "outputs": [],
   "source": [
    "df.to_csv(\"C:/Users/Manoj VTION/Desktop/ayushi5.csv\")"
   ]
  },
  {
   "cell_type": "code",
   "execution_count": 1112,
   "metadata": {},
   "outputs": [],
   "source": [
    "from ast import literal_eval"
   ]
  },
  {
   "cell_type": "code",
   "execution_count": 1113,
   "metadata": {},
   "outputs": [
    {
     "ename": "ValueError",
     "evalue": "('malformed node or string: 0     {\"id\":\"27959026\",\"title\":\"RadheRadhe\",\"index\":...\\n1     {\"id\":\"4148160\",\"title\":\"InternationalTop50\",\"...\\n2     {\"id\":\"27937882\",\"title\":\"Prada\",\"index\":0,\"so...\\n3     {\"id\":\"35275020\",\"title\":\"ChaiChappaChai\",\"ind...\\n4     {\"id\":\"27947286\",\"title\":\"MLKBLVD\",\"index\":0,\"...\\n5     {\"id\":\"27909521\",\"title\":\"Paranda\",\"index\":0,\"...\\n6     {\"id\":\"27922722\",\"title\":\"Savan\",\"index\":0,\"so...\\n7     {\"id\":\"9469863\",\"title\":\"LatestEDM2019Internat...\\n8     {\"id\":\"2768309\",\"title\":\"DreamGirl\",\"index\":0,...\\n9     \"id\":\"2770000\",\"title\":\"Won\"tBeLate\",\"index\":0...\\n10    {\"id\":\"2765984\",\"title\":\"SmashupWithGuruRandha...\\n11    {\"id\":\"2761194\",\"title\":\"Savan\",\"index\":0,\"sou...\\n12    {\"id\":\"2763783\",\"title\":\"RockWitchu\",\"index\":0...\\n13    {\"id\":\"2764066\",\"title\":\"Prada\",\"index\":0,\"sou...\\n14    {\"id\":\"2705297\",\"title\":\"Saaho (Hindi)\",\"index...\\n15    {\"id\":\"2769960\",\"title\":\"Lover\",\"index\":0,\"sou...\\n16    {\"id\":\"2767204\",\"title\":\"Eyes On You\",\"index\":...\\n17    {\"id\":\"2744302\",\"title\":\"MissionMangal\",\"index...\\n18    {\"id\":\"28488451\",\"title\":\"RiyasRetroSeason4\",\"...\\n19    {\"id\":\"31473030\",\"title\":\"GaanaTop10\",\"index\":...\\n20    {\"id\":\"16843267\",\"title\":\"AllThingsMusicwithSa...\\n21    {\"id\":\"34421595\",\"title\":\"TheComicstaanPodcast...\\n22    {\"id\":\"9223365\",\"title\":\"Sarthak\"sRockumentary...\\n23    {\"id\":\"20020868\",\"title\":\"ShuddhVichaar\",\"inde...\\n24    {\"id\":\"7308321\",\"title\":\"ClassicShowcaseWithPa...\\n25    {\"id\":\"33078985\",\"title\":\"PuliyabaaziHindiPodc...\\n26    {\"id\":\"6060496\",\"title\":\"Sarthak\"sRockumentary...\\nName: Segmentation, dtype: object', 'occurred at index Segmentation')",
     "output_type": "error",
     "traceback": [
      "\u001b[1;31m---------------------------------------------------------------------------\u001b[0m",
      "\u001b[1;31mValueError\u001b[0m                                Traceback (most recent call last)",
      "\u001b[1;32m<ipython-input-1113-a2dfce4a7402>\u001b[0m in \u001b[0;36m<module>\u001b[1;34m\u001b[0m\n\u001b[1;32m----> 1\u001b[1;33m \u001b[0mdf1\u001b[0m\u001b[1;33m=\u001b[0m\u001b[0mdf1\u001b[0m\u001b[1;33m.\u001b[0m\u001b[0mapply\u001b[0m\u001b[1;33m(\u001b[0m\u001b[0mast\u001b[0m\u001b[1;33m.\u001b[0m\u001b[0mliteral_eval\u001b[0m\u001b[1;33m)\u001b[0m\u001b[1;33m\u001b[0m\u001b[1;33m\u001b[0m\u001b[0m\n\u001b[0m",
      "\u001b[1;32m~\\Anaconda3\\lib\\site-packages\\pandas\\core\\frame.py\u001b[0m in \u001b[0;36mapply\u001b[1;34m(self, func, axis, broadcast, raw, reduce, result_type, args, **kwds)\u001b[0m\n\u001b[0;32m   6012\u001b[0m                          \u001b[0margs\u001b[0m\u001b[1;33m=\u001b[0m\u001b[0margs\u001b[0m\u001b[1;33m,\u001b[0m\u001b[1;33m\u001b[0m\u001b[1;33m\u001b[0m\u001b[0m\n\u001b[0;32m   6013\u001b[0m                          kwds=kwds)\n\u001b[1;32m-> 6014\u001b[1;33m         \u001b[1;32mreturn\u001b[0m \u001b[0mop\u001b[0m\u001b[1;33m.\u001b[0m\u001b[0mget_result\u001b[0m\u001b[1;33m(\u001b[0m\u001b[1;33m)\u001b[0m\u001b[1;33m\u001b[0m\u001b[1;33m\u001b[0m\u001b[0m\n\u001b[0m\u001b[0;32m   6015\u001b[0m \u001b[1;33m\u001b[0m\u001b[0m\n\u001b[0;32m   6016\u001b[0m     \u001b[1;32mdef\u001b[0m \u001b[0mapplymap\u001b[0m\u001b[1;33m(\u001b[0m\u001b[0mself\u001b[0m\u001b[1;33m,\u001b[0m \u001b[0mfunc\u001b[0m\u001b[1;33m)\u001b[0m\u001b[1;33m:\u001b[0m\u001b[1;33m\u001b[0m\u001b[1;33m\u001b[0m\u001b[0m\n",
      "\u001b[1;32m~\\Anaconda3\\lib\\site-packages\\pandas\\core\\apply.py\u001b[0m in \u001b[0;36mget_result\u001b[1;34m(self)\u001b[0m\n\u001b[0;32m    316\u001b[0m                                       *self.args, **self.kwds)\n\u001b[0;32m    317\u001b[0m \u001b[1;33m\u001b[0m\u001b[0m\n\u001b[1;32m--> 318\u001b[1;33m         \u001b[1;32mreturn\u001b[0m \u001b[0msuper\u001b[0m\u001b[1;33m(\u001b[0m\u001b[0mFrameRowApply\u001b[0m\u001b[1;33m,\u001b[0m \u001b[0mself\u001b[0m\u001b[1;33m)\u001b[0m\u001b[1;33m.\u001b[0m\u001b[0mget_result\u001b[0m\u001b[1;33m(\u001b[0m\u001b[1;33m)\u001b[0m\u001b[1;33m\u001b[0m\u001b[1;33m\u001b[0m\u001b[0m\n\u001b[0m\u001b[0;32m    319\u001b[0m \u001b[1;33m\u001b[0m\u001b[0m\n\u001b[0;32m    320\u001b[0m     \u001b[1;32mdef\u001b[0m \u001b[0mapply_broadcast\u001b[0m\u001b[1;33m(\u001b[0m\u001b[0mself\u001b[0m\u001b[1;33m)\u001b[0m\u001b[1;33m:\u001b[0m\u001b[1;33m\u001b[0m\u001b[1;33m\u001b[0m\u001b[0m\n",
      "\u001b[1;32m~\\Anaconda3\\lib\\site-packages\\pandas\\core\\apply.py\u001b[0m in \u001b[0;36mget_result\u001b[1;34m(self)\u001b[0m\n\u001b[0;32m    140\u001b[0m             \u001b[1;32mreturn\u001b[0m \u001b[0mself\u001b[0m\u001b[1;33m.\u001b[0m\u001b[0mapply_raw\u001b[0m\u001b[1;33m(\u001b[0m\u001b[1;33m)\u001b[0m\u001b[1;33m\u001b[0m\u001b[1;33m\u001b[0m\u001b[0m\n\u001b[0;32m    141\u001b[0m \u001b[1;33m\u001b[0m\u001b[0m\n\u001b[1;32m--> 142\u001b[1;33m         \u001b[1;32mreturn\u001b[0m \u001b[0mself\u001b[0m\u001b[1;33m.\u001b[0m\u001b[0mapply_standard\u001b[0m\u001b[1;33m(\u001b[0m\u001b[1;33m)\u001b[0m\u001b[1;33m\u001b[0m\u001b[1;33m\u001b[0m\u001b[0m\n\u001b[0m\u001b[0;32m    143\u001b[0m \u001b[1;33m\u001b[0m\u001b[0m\n\u001b[0;32m    144\u001b[0m     \u001b[1;32mdef\u001b[0m \u001b[0mapply_empty_result\u001b[0m\u001b[1;33m(\u001b[0m\u001b[0mself\u001b[0m\u001b[1;33m)\u001b[0m\u001b[1;33m:\u001b[0m\u001b[1;33m\u001b[0m\u001b[1;33m\u001b[0m\u001b[0m\n",
      "\u001b[1;32m~\\Anaconda3\\lib\\site-packages\\pandas\\core\\apply.py\u001b[0m in \u001b[0;36mapply_standard\u001b[1;34m(self)\u001b[0m\n\u001b[0;32m    246\u001b[0m \u001b[1;33m\u001b[0m\u001b[0m\n\u001b[0;32m    247\u001b[0m         \u001b[1;31m# compute the result using the series generator\u001b[0m\u001b[1;33m\u001b[0m\u001b[1;33m\u001b[0m\u001b[1;33m\u001b[0m\u001b[0m\n\u001b[1;32m--> 248\u001b[1;33m         \u001b[0mself\u001b[0m\u001b[1;33m.\u001b[0m\u001b[0mapply_series_generator\u001b[0m\u001b[1;33m(\u001b[0m\u001b[1;33m)\u001b[0m\u001b[1;33m\u001b[0m\u001b[1;33m\u001b[0m\u001b[0m\n\u001b[0m\u001b[0;32m    249\u001b[0m \u001b[1;33m\u001b[0m\u001b[0m\n\u001b[0;32m    250\u001b[0m         \u001b[1;31m# wrap results\u001b[0m\u001b[1;33m\u001b[0m\u001b[1;33m\u001b[0m\u001b[1;33m\u001b[0m\u001b[0m\n",
      "\u001b[1;32m~\\Anaconda3\\lib\\site-packages\\pandas\\core\\apply.py\u001b[0m in \u001b[0;36mapply_series_generator\u001b[1;34m(self)\u001b[0m\n\u001b[0;32m    275\u001b[0m             \u001b[1;32mtry\u001b[0m\u001b[1;33m:\u001b[0m\u001b[1;33m\u001b[0m\u001b[1;33m\u001b[0m\u001b[0m\n\u001b[0;32m    276\u001b[0m                 \u001b[1;32mfor\u001b[0m \u001b[0mi\u001b[0m\u001b[1;33m,\u001b[0m \u001b[0mv\u001b[0m \u001b[1;32min\u001b[0m \u001b[0menumerate\u001b[0m\u001b[1;33m(\u001b[0m\u001b[0mseries_gen\u001b[0m\u001b[1;33m)\u001b[0m\u001b[1;33m:\u001b[0m\u001b[1;33m\u001b[0m\u001b[1;33m\u001b[0m\u001b[0m\n\u001b[1;32m--> 277\u001b[1;33m                     \u001b[0mresults\u001b[0m\u001b[1;33m[\u001b[0m\u001b[0mi\u001b[0m\u001b[1;33m]\u001b[0m \u001b[1;33m=\u001b[0m \u001b[0mself\u001b[0m\u001b[1;33m.\u001b[0m\u001b[0mf\u001b[0m\u001b[1;33m(\u001b[0m\u001b[0mv\u001b[0m\u001b[1;33m)\u001b[0m\u001b[1;33m\u001b[0m\u001b[1;33m\u001b[0m\u001b[0m\n\u001b[0m\u001b[0;32m    278\u001b[0m                     \u001b[0mkeys\u001b[0m\u001b[1;33m.\u001b[0m\u001b[0mappend\u001b[0m\u001b[1;33m(\u001b[0m\u001b[0mv\u001b[0m\u001b[1;33m.\u001b[0m\u001b[0mname\u001b[0m\u001b[1;33m)\u001b[0m\u001b[1;33m\u001b[0m\u001b[1;33m\u001b[0m\u001b[0m\n\u001b[0;32m    279\u001b[0m             \u001b[1;32mexcept\u001b[0m \u001b[0mException\u001b[0m \u001b[1;32mas\u001b[0m \u001b[0me\u001b[0m\u001b[1;33m:\u001b[0m\u001b[1;33m\u001b[0m\u001b[1;33m\u001b[0m\u001b[0m\n",
      "\u001b[1;32m~\\Anaconda3\\lib\\ast.py\u001b[0m in \u001b[0;36mliteral_eval\u001b[1;34m(node_or_string)\u001b[0m\n\u001b[0;32m     89\u001b[0m                     \u001b[1;32mreturn\u001b[0m \u001b[0mleft\u001b[0m \u001b[1;33m-\u001b[0m \u001b[0mright\u001b[0m\u001b[1;33m\u001b[0m\u001b[1;33m\u001b[0m\u001b[0m\n\u001b[0;32m     90\u001b[0m         \u001b[1;32mreturn\u001b[0m \u001b[0m_convert_signed_num\u001b[0m\u001b[1;33m(\u001b[0m\u001b[0mnode\u001b[0m\u001b[1;33m)\u001b[0m\u001b[1;33m\u001b[0m\u001b[1;33m\u001b[0m\u001b[0m\n\u001b[1;32m---> 91\u001b[1;33m     \u001b[1;32mreturn\u001b[0m \u001b[0m_convert\u001b[0m\u001b[1;33m(\u001b[0m\u001b[0mnode_or_string\u001b[0m\u001b[1;33m)\u001b[0m\u001b[1;33m\u001b[0m\u001b[1;33m\u001b[0m\u001b[0m\n\u001b[0m\u001b[0;32m     92\u001b[0m \u001b[1;33m\u001b[0m\u001b[0m\n\u001b[0;32m     93\u001b[0m \u001b[1;33m\u001b[0m\u001b[0m\n",
      "\u001b[1;32m~\\Anaconda3\\lib\\ast.py\u001b[0m in \u001b[0;36m_convert\u001b[1;34m(node)\u001b[0m\n\u001b[0;32m     88\u001b[0m                 \u001b[1;32melse\u001b[0m\u001b[1;33m:\u001b[0m\u001b[1;33m\u001b[0m\u001b[1;33m\u001b[0m\u001b[0m\n\u001b[0;32m     89\u001b[0m                     \u001b[1;32mreturn\u001b[0m \u001b[0mleft\u001b[0m \u001b[1;33m-\u001b[0m \u001b[0mright\u001b[0m\u001b[1;33m\u001b[0m\u001b[1;33m\u001b[0m\u001b[0m\n\u001b[1;32m---> 90\u001b[1;33m         \u001b[1;32mreturn\u001b[0m \u001b[0m_convert_signed_num\u001b[0m\u001b[1;33m(\u001b[0m\u001b[0mnode\u001b[0m\u001b[1;33m)\u001b[0m\u001b[1;33m\u001b[0m\u001b[1;33m\u001b[0m\u001b[0m\n\u001b[0m\u001b[0;32m     91\u001b[0m     \u001b[1;32mreturn\u001b[0m \u001b[0m_convert\u001b[0m\u001b[1;33m(\u001b[0m\u001b[0mnode_or_string\u001b[0m\u001b[1;33m)\u001b[0m\u001b[1;33m\u001b[0m\u001b[1;33m\u001b[0m\u001b[0m\n\u001b[0;32m     92\u001b[0m \u001b[1;33m\u001b[0m\u001b[0m\n",
      "\u001b[1;32m~\\Anaconda3\\lib\\ast.py\u001b[0m in \u001b[0;36m_convert_signed_num\u001b[1;34m(node)\u001b[0m\n\u001b[0;32m     61\u001b[0m             \u001b[1;32melse\u001b[0m\u001b[1;33m:\u001b[0m\u001b[1;33m\u001b[0m\u001b[1;33m\u001b[0m\u001b[0m\n\u001b[0;32m     62\u001b[0m                 \u001b[1;32mreturn\u001b[0m \u001b[1;33m-\u001b[0m \u001b[0moperand\u001b[0m\u001b[1;33m\u001b[0m\u001b[1;33m\u001b[0m\u001b[0m\n\u001b[1;32m---> 63\u001b[1;33m         \u001b[1;32mreturn\u001b[0m \u001b[0m_convert_num\u001b[0m\u001b[1;33m(\u001b[0m\u001b[0mnode\u001b[0m\u001b[1;33m)\u001b[0m\u001b[1;33m\u001b[0m\u001b[1;33m\u001b[0m\u001b[0m\n\u001b[0m\u001b[0;32m     64\u001b[0m     \u001b[1;32mdef\u001b[0m \u001b[0m_convert\u001b[0m\u001b[1;33m(\u001b[0m\u001b[0mnode\u001b[0m\u001b[1;33m)\u001b[0m\u001b[1;33m:\u001b[0m\u001b[1;33m\u001b[0m\u001b[1;33m\u001b[0m\u001b[0m\n\u001b[0;32m     65\u001b[0m         \u001b[1;32mif\u001b[0m \u001b[0misinstance\u001b[0m\u001b[1;33m(\u001b[0m\u001b[0mnode\u001b[0m\u001b[1;33m,\u001b[0m \u001b[0mConstant\u001b[0m\u001b[1;33m)\u001b[0m\u001b[1;33m:\u001b[0m\u001b[1;33m\u001b[0m\u001b[1;33m\u001b[0m\u001b[0m\n",
      "\u001b[1;32m~\\Anaconda3\\lib\\ast.py\u001b[0m in \u001b[0;36m_convert_num\u001b[1;34m(node)\u001b[0m\n\u001b[0;32m     53\u001b[0m         \u001b[1;32melif\u001b[0m \u001b[0misinstance\u001b[0m\u001b[1;33m(\u001b[0m\u001b[0mnode\u001b[0m\u001b[1;33m,\u001b[0m \u001b[0mNum\u001b[0m\u001b[1;33m)\u001b[0m\u001b[1;33m:\u001b[0m\u001b[1;33m\u001b[0m\u001b[1;33m\u001b[0m\u001b[0m\n\u001b[0;32m     54\u001b[0m             \u001b[1;32mreturn\u001b[0m \u001b[0mnode\u001b[0m\u001b[1;33m.\u001b[0m\u001b[0mn\u001b[0m\u001b[1;33m\u001b[0m\u001b[1;33m\u001b[0m\u001b[0m\n\u001b[1;32m---> 55\u001b[1;33m         \u001b[1;32mraise\u001b[0m \u001b[0mValueError\u001b[0m\u001b[1;33m(\u001b[0m\u001b[1;34m'malformed node or string: '\u001b[0m \u001b[1;33m+\u001b[0m \u001b[0mrepr\u001b[0m\u001b[1;33m(\u001b[0m\u001b[0mnode\u001b[0m\u001b[1;33m)\u001b[0m\u001b[1;33m)\u001b[0m\u001b[1;33m\u001b[0m\u001b[1;33m\u001b[0m\u001b[0m\n\u001b[0m\u001b[0;32m     56\u001b[0m     \u001b[1;32mdef\u001b[0m \u001b[0m_convert_signed_num\u001b[0m\u001b[1;33m(\u001b[0m\u001b[0mnode\u001b[0m\u001b[1;33m)\u001b[0m\u001b[1;33m:\u001b[0m\u001b[1;33m\u001b[0m\u001b[1;33m\u001b[0m\u001b[0m\n\u001b[0;32m     57\u001b[0m         \u001b[1;32mif\u001b[0m \u001b[0misinstance\u001b[0m\u001b[1;33m(\u001b[0m\u001b[0mnode\u001b[0m\u001b[1;33m,\u001b[0m \u001b[0mUnaryOp\u001b[0m\u001b[1;33m)\u001b[0m \u001b[1;32mand\u001b[0m \u001b[0misinstance\u001b[0m\u001b[1;33m(\u001b[0m\u001b[0mnode\u001b[0m\u001b[1;33m.\u001b[0m\u001b[0mop\u001b[0m\u001b[1;33m,\u001b[0m \u001b[1;33m(\u001b[0m\u001b[0mUAdd\u001b[0m\u001b[1;33m,\u001b[0m \u001b[0mUSub\u001b[0m\u001b[1;33m)\u001b[0m\u001b[1;33m)\u001b[0m\u001b[1;33m:\u001b[0m\u001b[1;33m\u001b[0m\u001b[1;33m\u001b[0m\u001b[0m\n",
      "\u001b[1;31mValueError\u001b[0m: ('malformed node or string: 0     {\"id\":\"27959026\",\"title\":\"RadheRadhe\",\"index\":...\\n1     {\"id\":\"4148160\",\"title\":\"InternationalTop50\",\"...\\n2     {\"id\":\"27937882\",\"title\":\"Prada\",\"index\":0,\"so...\\n3     {\"id\":\"35275020\",\"title\":\"ChaiChappaChai\",\"ind...\\n4     {\"id\":\"27947286\",\"title\":\"MLKBLVD\",\"index\":0,\"...\\n5     {\"id\":\"27909521\",\"title\":\"Paranda\",\"index\":0,\"...\\n6     {\"id\":\"27922722\",\"title\":\"Savan\",\"index\":0,\"so...\\n7     {\"id\":\"9469863\",\"title\":\"LatestEDM2019Internat...\\n8     {\"id\":\"2768309\",\"title\":\"DreamGirl\",\"index\":0,...\\n9     \"id\":\"2770000\",\"title\":\"Won\"tBeLate\",\"index\":0...\\n10    {\"id\":\"2765984\",\"title\":\"SmashupWithGuruRandha...\\n11    {\"id\":\"2761194\",\"title\":\"Savan\",\"index\":0,\"sou...\\n12    {\"id\":\"2763783\",\"title\":\"RockWitchu\",\"index\":0...\\n13    {\"id\":\"2764066\",\"title\":\"Prada\",\"index\":0,\"sou...\\n14    {\"id\":\"2705297\",\"title\":\"Saaho (Hindi)\",\"index...\\n15    {\"id\":\"2769960\",\"title\":\"Lover\",\"index\":0,\"sou...\\n16    {\"id\":\"2767204\",\"title\":\"Eyes On You\",\"index\":...\\n17    {\"id\":\"2744302\",\"title\":\"MissionMangal\",\"index...\\n18    {\"id\":\"28488451\",\"title\":\"RiyasRetroSeason4\",\"...\\n19    {\"id\":\"31473030\",\"title\":\"GaanaTop10\",\"index\":...\\n20    {\"id\":\"16843267\",\"title\":\"AllThingsMusicwithSa...\\n21    {\"id\":\"34421595\",\"title\":\"TheComicstaanPodcast...\\n22    {\"id\":\"9223365\",\"title\":\"Sarthak\"sRockumentary...\\n23    {\"id\":\"20020868\",\"title\":\"ShuddhVichaar\",\"inde...\\n24    {\"id\":\"7308321\",\"title\":\"ClassicShowcaseWithPa...\\n25    {\"id\":\"33078985\",\"title\":\"PuliyabaaziHindiPodc...\\n26    {\"id\":\"6060496\",\"title\":\"Sarthak\"sRockumentary...\\nName: Segmentation, dtype: object', 'occurred at index Segmentation')"
     ]
    }
   ],
   "source": [
    "df1=df1.apply(ast.literal_eval)"
   ]
  },
  {
   "cell_type": "code",
   "execution_count": 999,
   "metadata": {},
   "outputs": [],
   "source": [
    "df1=pd.read_csv(\"C:/Users/Manoj VTION/Desktop/ayushi1.csv\")"
   ]
  },
  {
   "cell_type": "code",
   "execution_count": 954,
   "metadata": {},
   "outputs": [],
   "source": [
    "import openpyxl\n",
    "path =(\"C:/Users/Manoj VTION/Desktop/New Microsoft Excel Worksheet (7).xlsx\")"
   ]
  },
  {
   "cell_type": "code",
   "execution_count": 955,
   "metadata": {},
   "outputs": [],
   "source": [
    "df1 = pd.read_excel(path)"
   ]
  },
  {
   "cell_type": "code",
   "execution_count": 956,
   "metadata": {},
   "outputs": [],
   "source": [
    "#df1['Segmentation']=df1['Segmentation'].to_dict()"
   ]
  },
  {
   "cell_type": "code",
   "execution_count": 1000,
   "metadata": {},
   "outputs": [
    {
     "data": {
      "text/html": [
       "<div>\n",
       "<style scoped>\n",
       "    .dataframe tbody tr th:only-of-type {\n",
       "        vertical-align: middle;\n",
       "    }\n",
       "\n",
       "    .dataframe tbody tr th {\n",
       "        vertical-align: top;\n",
       "    }\n",
       "\n",
       "    .dataframe thead th {\n",
       "        text-align: right;\n",
       "    }\n",
       "</style>\n",
       "<table border=\"1\" class=\"dataframe\">\n",
       "  <thead>\n",
       "    <tr style=\"text-align: right;\">\n",
       "      <th></th>\n",
       "      <th>Segmentation</th>\n",
       "    </tr>\n",
       "  </thead>\n",
       "  <tbody>\n",
       "    <tr>\n",
       "      <th>0</th>\n",
       "      <td>{\"id\":\"27959026\",\"title\":\"RadheRadhe\",\"index\":...</td>\n",
       "    </tr>\n",
       "    <tr>\n",
       "      <th>1</th>\n",
       "      <td>{\"id\":\"4148160\",\"title\":\"InternationalTop50\",\"...</td>\n",
       "    </tr>\n",
       "    <tr>\n",
       "      <th>2</th>\n",
       "      <td>{\"id\":\"27937882\",\"title\":\"Prada\",\"index\":0,\"so...</td>\n",
       "    </tr>\n",
       "    <tr>\n",
       "      <th>3</th>\n",
       "      <td>{\"id\":\"35275020\",\"title\":\"ChaiChappaChai\",\"ind...</td>\n",
       "    </tr>\n",
       "    <tr>\n",
       "      <th>4</th>\n",
       "      <td>{\"id\":\"27947286\",\"title\":\"MLKBLVD\",\"index\":0,\"...</td>\n",
       "    </tr>\n",
       "  </tbody>\n",
       "</table>\n",
       "</div>"
      ],
      "text/plain": [
       "                                        Segmentation\n",
       "0  {\"id\":\"27959026\",\"title\":\"RadheRadhe\",\"index\":...\n",
       "1  {\"id\":\"4148160\",\"title\":\"InternationalTop50\",\"...\n",
       "2  {\"id\":\"27937882\",\"title\":\"Prada\",\"index\":0,\"so...\n",
       "3  {\"id\":\"35275020\",\"title\":\"ChaiChappaChai\",\"ind...\n",
       "4  {\"id\":\"27947286\",\"title\":\"MLKBLVD\",\"index\":0,\"..."
      ]
     },
     "execution_count": 1000,
     "metadata": {},
     "output_type": "execute_result"
    }
   ],
   "source": [
    "df1.head()"
   ]
  },
  {
   "cell_type": "code",
   "execution_count": 959,
   "metadata": {},
   "outputs": [
    {
     "ename": "KeyError",
     "evalue": "\"None of [['title']] are in the [columns]\"",
     "output_type": "error",
     "traceback": [
      "\u001b[1;31m---------------------------------------------------------------------------\u001b[0m",
      "\u001b[1;31mKeyError\u001b[0m                                  Traceback (most recent call last)",
      "\u001b[1;32m<ipython-input-959-520b062ffce5>\u001b[0m in \u001b[0;36m<module>\u001b[1;34m\u001b[0m\n\u001b[1;32m----> 1\u001b[1;33m \u001b[0mnewdf1\u001b[0m\u001b[1;33m=\u001b[0m\u001b[0mdf1\u001b[0m\u001b[1;33m.\u001b[0m\u001b[0mloc\u001b[0m\u001b[1;33m[\u001b[0m\u001b[1;33m:\u001b[0m\u001b[1;33m,\u001b[0m\u001b[1;33m[\u001b[0m\u001b[1;34m'title'\u001b[0m\u001b[1;33m]\u001b[0m\u001b[1;33m]\u001b[0m\u001b[1;33m\u001b[0m\u001b[1;33m\u001b[0m\u001b[0m\n\u001b[0m",
      "\u001b[1;32m~\\Anaconda3\\lib\\site-packages\\pandas\\core\\indexing.py\u001b[0m in \u001b[0;36m__getitem__\u001b[1;34m(self, key)\u001b[0m\n\u001b[0;32m   1470\u001b[0m             \u001b[1;32mexcept\u001b[0m \u001b[1;33m(\u001b[0m\u001b[0mKeyError\u001b[0m\u001b[1;33m,\u001b[0m \u001b[0mIndexError\u001b[0m\u001b[1;33m)\u001b[0m\u001b[1;33m:\u001b[0m\u001b[1;33m\u001b[0m\u001b[1;33m\u001b[0m\u001b[0m\n\u001b[0;32m   1471\u001b[0m                 \u001b[1;32mpass\u001b[0m\u001b[1;33m\u001b[0m\u001b[1;33m\u001b[0m\u001b[0m\n\u001b[1;32m-> 1472\u001b[1;33m             \u001b[1;32mreturn\u001b[0m \u001b[0mself\u001b[0m\u001b[1;33m.\u001b[0m\u001b[0m_getitem_tuple\u001b[0m\u001b[1;33m(\u001b[0m\u001b[0mkey\u001b[0m\u001b[1;33m)\u001b[0m\u001b[1;33m\u001b[0m\u001b[1;33m\u001b[0m\u001b[0m\n\u001b[0m\u001b[0;32m   1473\u001b[0m         \u001b[1;32melse\u001b[0m\u001b[1;33m:\u001b[0m\u001b[1;33m\u001b[0m\u001b[1;33m\u001b[0m\u001b[0m\n\u001b[0;32m   1474\u001b[0m             \u001b[1;31m# we by definition only have the 0th axis\u001b[0m\u001b[1;33m\u001b[0m\u001b[1;33m\u001b[0m\u001b[1;33m\u001b[0m\u001b[0m\n",
      "\u001b[1;32m~\\Anaconda3\\lib\\site-packages\\pandas\\core\\indexing.py\u001b[0m in \u001b[0;36m_getitem_tuple\u001b[1;34m(self, tup)\u001b[0m\n\u001b[0;32m    888\u001b[0m                 \u001b[1;32mcontinue\u001b[0m\u001b[1;33m\u001b[0m\u001b[1;33m\u001b[0m\u001b[0m\n\u001b[0;32m    889\u001b[0m \u001b[1;33m\u001b[0m\u001b[0m\n\u001b[1;32m--> 890\u001b[1;33m             \u001b[0mretval\u001b[0m \u001b[1;33m=\u001b[0m \u001b[0mgetattr\u001b[0m\u001b[1;33m(\u001b[0m\u001b[0mretval\u001b[0m\u001b[1;33m,\u001b[0m \u001b[0mself\u001b[0m\u001b[1;33m.\u001b[0m\u001b[0mname\u001b[0m\u001b[1;33m)\u001b[0m\u001b[1;33m.\u001b[0m\u001b[0m_getitem_axis\u001b[0m\u001b[1;33m(\u001b[0m\u001b[0mkey\u001b[0m\u001b[1;33m,\u001b[0m \u001b[0maxis\u001b[0m\u001b[1;33m=\u001b[0m\u001b[0mi\u001b[0m\u001b[1;33m)\u001b[0m\u001b[1;33m\u001b[0m\u001b[1;33m\u001b[0m\u001b[0m\n\u001b[0m\u001b[0;32m    891\u001b[0m \u001b[1;33m\u001b[0m\u001b[0m\n\u001b[0;32m    892\u001b[0m         \u001b[1;32mreturn\u001b[0m \u001b[0mretval\u001b[0m\u001b[1;33m\u001b[0m\u001b[1;33m\u001b[0m\u001b[0m\n",
      "\u001b[1;32m~\\Anaconda3\\lib\\site-packages\\pandas\\core\\indexing.py\u001b[0m in \u001b[0;36m_getitem_axis\u001b[1;34m(self, key, axis)\u001b[0m\n\u001b[0;32m   1899\u001b[0m                     \u001b[1;32mraise\u001b[0m \u001b[0mValueError\u001b[0m\u001b[1;33m(\u001b[0m\u001b[1;34m'Cannot index with multidimensional key'\u001b[0m\u001b[1;33m)\u001b[0m\u001b[1;33m\u001b[0m\u001b[1;33m\u001b[0m\u001b[0m\n\u001b[0;32m   1900\u001b[0m \u001b[1;33m\u001b[0m\u001b[0m\n\u001b[1;32m-> 1901\u001b[1;33m                 \u001b[1;32mreturn\u001b[0m \u001b[0mself\u001b[0m\u001b[1;33m.\u001b[0m\u001b[0m_getitem_iterable\u001b[0m\u001b[1;33m(\u001b[0m\u001b[0mkey\u001b[0m\u001b[1;33m,\u001b[0m \u001b[0maxis\u001b[0m\u001b[1;33m=\u001b[0m\u001b[0maxis\u001b[0m\u001b[1;33m)\u001b[0m\u001b[1;33m\u001b[0m\u001b[1;33m\u001b[0m\u001b[0m\n\u001b[0m\u001b[0;32m   1902\u001b[0m \u001b[1;33m\u001b[0m\u001b[0m\n\u001b[0;32m   1903\u001b[0m             \u001b[1;31m# nested tuple slicing\u001b[0m\u001b[1;33m\u001b[0m\u001b[1;33m\u001b[0m\u001b[1;33m\u001b[0m\u001b[0m\n",
      "\u001b[1;32m~\\Anaconda3\\lib\\site-packages\\pandas\\core\\indexing.py\u001b[0m in \u001b[0;36m_getitem_iterable\u001b[1;34m(self, key, axis)\u001b[0m\n\u001b[0;32m   1141\u001b[0m             \u001b[1;32mif\u001b[0m \u001b[0mlabels\u001b[0m\u001b[1;33m.\u001b[0m\u001b[0mis_unique\u001b[0m \u001b[1;32mand\u001b[0m \u001b[0mIndex\u001b[0m\u001b[1;33m(\u001b[0m\u001b[0mkeyarr\u001b[0m\u001b[1;33m)\u001b[0m\u001b[1;33m.\u001b[0m\u001b[0mis_unique\u001b[0m\u001b[1;33m:\u001b[0m\u001b[1;33m\u001b[0m\u001b[1;33m\u001b[0m\u001b[0m\n\u001b[0;32m   1142\u001b[0m                 \u001b[0mindexer\u001b[0m \u001b[1;33m=\u001b[0m \u001b[0max\u001b[0m\u001b[1;33m.\u001b[0m\u001b[0mget_indexer_for\u001b[0m\u001b[1;33m(\u001b[0m\u001b[0mkey\u001b[0m\u001b[1;33m)\u001b[0m\u001b[1;33m\u001b[0m\u001b[1;33m\u001b[0m\u001b[0m\n\u001b[1;32m-> 1143\u001b[1;33m                 \u001b[0mself\u001b[0m\u001b[1;33m.\u001b[0m\u001b[0m_validate_read_indexer\u001b[0m\u001b[1;33m(\u001b[0m\u001b[0mkey\u001b[0m\u001b[1;33m,\u001b[0m \u001b[0mindexer\u001b[0m\u001b[1;33m,\u001b[0m \u001b[0maxis\u001b[0m\u001b[1;33m)\u001b[0m\u001b[1;33m\u001b[0m\u001b[1;33m\u001b[0m\u001b[0m\n\u001b[0m\u001b[0;32m   1144\u001b[0m \u001b[1;33m\u001b[0m\u001b[0m\n\u001b[0;32m   1145\u001b[0m                 \u001b[0md\u001b[0m \u001b[1;33m=\u001b[0m \u001b[1;33m{\u001b[0m\u001b[0maxis\u001b[0m\u001b[1;33m:\u001b[0m \u001b[1;33m[\u001b[0m\u001b[0max\u001b[0m\u001b[1;33m.\u001b[0m\u001b[0mreindex\u001b[0m\u001b[1;33m(\u001b[0m\u001b[0mkeyarr\u001b[0m\u001b[1;33m)\u001b[0m\u001b[1;33m[\u001b[0m\u001b[1;36m0\u001b[0m\u001b[1;33m]\u001b[0m\u001b[1;33m,\u001b[0m \u001b[0mindexer\u001b[0m\u001b[1;33m]\u001b[0m\u001b[1;33m}\u001b[0m\u001b[1;33m\u001b[0m\u001b[1;33m\u001b[0m\u001b[0m\n",
      "\u001b[1;32m~\\Anaconda3\\lib\\site-packages\\pandas\\core\\indexing.py\u001b[0m in \u001b[0;36m_validate_read_indexer\u001b[1;34m(self, key, indexer, axis)\u001b[0m\n\u001b[0;32m   1204\u001b[0m                 raise KeyError(\n\u001b[0;32m   1205\u001b[0m                     u\"None of [{key}] are in the [{axis}]\".format(\n\u001b[1;32m-> 1206\u001b[1;33m                         key=key, axis=self.obj._get_axis_name(axis)))\n\u001b[0m\u001b[0;32m   1207\u001b[0m \u001b[1;33m\u001b[0m\u001b[0m\n\u001b[0;32m   1208\u001b[0m             \u001b[1;31m# we skip the warning on Categorical/Interval\u001b[0m\u001b[1;33m\u001b[0m\u001b[1;33m\u001b[0m\u001b[1;33m\u001b[0m\u001b[0m\n",
      "\u001b[1;31mKeyError\u001b[0m: \"None of [['title']] are in the [columns]\""
     ]
    }
   ],
   "source": [
    "newdf1=df1.loc[:,['title']]"
   ]
  },
  {
   "cell_type": "code",
   "execution_count": 952,
   "metadata": {},
   "outputs": [
    {
     "ename": "KeyError",
     "evalue": "0",
     "output_type": "error",
     "traceback": [
      "\u001b[1;31m---------------------------------------------------------------------------\u001b[0m",
      "\u001b[1;31mKeyError\u001b[0m                                  Traceback (most recent call last)",
      "\u001b[1;32m<ipython-input-952-79df5043c7ae>\u001b[0m in \u001b[0;36m<module>\u001b[1;34m\u001b[0m\n\u001b[0;32m      1\u001b[0m \u001b[1;32mfrom\u001b[0m \u001b[0mast\u001b[0m \u001b[1;32mimport\u001b[0m \u001b[0mliteral_eval\u001b[0m\u001b[1;33m\u001b[0m\u001b[1;33m\u001b[0m\u001b[0m\n\u001b[1;32m----> 2\u001b[1;33m \u001b[0mpython_dict\u001b[0m \u001b[1;33m=\u001b[0m \u001b[0mliteral_eval\u001b[0m\u001b[1;33m(\u001b[0m\u001b[0md\u001b[0m\u001b[1;33m[\u001b[0m\u001b[1;36m0\u001b[0m\u001b[1;33m]\u001b[0m\u001b[1;33m)\u001b[0m\u001b[1;33m\u001b[0m\u001b[1;33m\u001b[0m\u001b[0m\n\u001b[0m",
      "\u001b[1;31mKeyError\u001b[0m: 0"
     ]
    }
   ],
   "source": [
    "from ast import literal_eval\n",
    "python_dict = literal_eval(d[0])"
   ]
  },
  {
   "cell_type": "code",
   "execution_count": 960,
   "metadata": {},
   "outputs": [],
   "source": [
    "#df1.to_dict()"
   ]
  },
  {
   "cell_type": "code",
   "execution_count": 961,
   "metadata": {},
   "outputs": [],
   "source": [
    "import json"
   ]
  },
  {
   "cell_type": "code",
   "execution_count": 962,
   "metadata": {},
   "outputs": [],
   "source": [
    "#stdf = df1.apply(json.loads)"
   ]
  },
  {
   "cell_type": "code",
   "execution_count": 963,
   "metadata": {},
   "outputs": [],
   "source": [
    "#stlst = list[stdf]"
   ]
  },
  {
   "cell_type": "code",
   "execution_count": 964,
   "metadata": {},
   "outputs": [],
   "source": [
    "#stjson = json.dumps(stlst)"
   ]
  },
  {
   "cell_type": "code",
   "execution_count": 965,
   "metadata": {},
   "outputs": [],
   "source": [
    "#df.join(pd.read_json(stjson))"
   ]
  },
  {
   "cell_type": "code",
   "execution_count": 966,
   "metadata": {},
   "outputs": [],
   "source": [
    "df1.to_json(\"C:/Users/Manoj VTION/Desktop/json1.json\")"
   ]
  },
  {
   "cell_type": "code",
   "execution_count": 967,
   "metadata": {},
   "outputs": [],
   "source": [
    "#import ast"
   ]
  },
  {
   "cell_type": "code",
   "execution_count": 968,
   "metadata": {},
   "outputs": [
    {
     "name": "stdout",
     "output_type": "stream",
     "text": [
      "<class 'dict'>\n"
     ]
    }
   ],
   "source": [
    "import json\n",
    "\n",
    "with open('C:/Users/Manoj VTION/Desktop/json1.json') as json_data:\n",
    "    d = json.load(json_data)\n",
    "    print(type(d))\n",
    "    \n",
    "   "
   ]
  },
  {
   "cell_type": "code",
   "execution_count": 969,
   "metadata": {},
   "outputs": [
    {
     "data": {
      "text/plain": [
       "pandas.core.frame.DataFrame"
      ]
     },
     "execution_count": 969,
     "metadata": {},
     "output_type": "execute_result"
    }
   ],
   "source": [
    "type(df1)"
   ]
  },
  {
   "cell_type": "code",
   "execution_count": 975,
   "metadata": {},
   "outputs": [
    {
     "ename": "KeyError",
     "evalue": "'0'",
     "output_type": "error",
     "traceback": [
      "\u001b[1;31m---------------------------------------------------------------------------\u001b[0m",
      "\u001b[1;31mKeyError\u001b[0m                                  Traceback (most recent call last)",
      "\u001b[1;32m<ipython-input-975-726f30385317>\u001b[0m in \u001b[0;36m<module>\u001b[1;34m\u001b[0m\n\u001b[1;32m----> 1\u001b[1;33m \u001b[0mprint\u001b[0m\u001b[1;33m(\u001b[0m\u001b[0mtype\u001b[0m\u001b[1;33m(\u001b[0m\u001b[0md\u001b[0m\u001b[1;33m[\u001b[0m\u001b[1;34m\"0\"\u001b[0m\u001b[1;33m]\u001b[0m\u001b[1;33m[\u001b[0m\u001b[1;34m'id'\u001b[0m\u001b[1;33m]\u001b[0m\u001b[1;33m)\u001b[0m\u001b[1;33m)\u001b[0m\u001b[1;33m\u001b[0m\u001b[1;33m\u001b[0m\u001b[0m\n\u001b[0m",
      "\u001b[1;31mKeyError\u001b[0m: '0'"
     ]
    }
   ],
   "source": [
    "print(type(d[\"0\"]['id']))"
   ]
  },
  {
   "cell_type": "code",
   "execution_count": null,
   "metadata": {},
   "outputs": [],
   "source": []
  },
  {
   "cell_type": "code",
   "execution_count": null,
   "metadata": {},
   "outputs": [],
   "source": []
  },
  {
   "cell_type": "code",
   "execution_count": 934,
   "metadata": {},
   "outputs": [],
   "source": [
    "#df1['Segmentation']=df1['Segmentation'].to_dict()"
   ]
  },
  {
   "cell_type": "code",
   "execution_count": 936,
   "metadata": {},
   "outputs": [
    {
     "ename": "KeyError",
     "evalue": "'0'",
     "output_type": "error",
     "traceback": [
      "\u001b[1;31m---------------------------------------------------------------------------\u001b[0m",
      "\u001b[1;31mKeyError\u001b[0m                                  Traceback (most recent call last)",
      "\u001b[1;32m<ipython-input-936-52356008d3bf>\u001b[0m in \u001b[0;36m<module>\u001b[1;34m\u001b[0m\n\u001b[1;32m----> 1\u001b[1;33m \u001b[0mprint\u001b[0m\u001b[1;33m(\u001b[0m\u001b[0mtype\u001b[0m\u001b[1;33m(\u001b[0m\u001b[0md\u001b[0m\u001b[1;33m[\u001b[0m\u001b[1;34m'0'\u001b[0m\u001b[1;33m]\u001b[0m\u001b[1;33m[\u001b[0m\u001b[1;34m'age'\u001b[0m\u001b[1;33m]\u001b[0m\u001b[1;33m)\u001b[0m\u001b[1;33m)\u001b[0m\u001b[1;33m\u001b[0m\u001b[1;33m\u001b[0m\u001b[0m\n\u001b[0m",
      "\u001b[1;31mKeyError\u001b[0m: '0'"
     ]
    }
   ],
   "source": [
    "print(type(d['0']['age']))"
   ]
  },
  {
   "cell_type": "code",
   "execution_count": 901,
   "metadata": {},
   "outputs": [
    {
     "name": "stdout",
     "output_type": "stream",
     "text": [
      "{}\n"
     ]
    }
   ],
   "source": [
    "for i in d.values(): \n",
    "    print(i) "
   ]
  },
  {
   "cell_type": "code",
   "execution_count": 904,
   "metadata": {},
   "outputs": [
    {
     "ename": "KeyError",
     "evalue": "'0'",
     "output_type": "error",
     "traceback": [
      "\u001b[1;31m---------------------------------------------------------------------------\u001b[0m",
      "\u001b[1;31mKeyError\u001b[0m                                  Traceback (most recent call last)",
      "\u001b[1;32m<ipython-input-904-725825e052b8>\u001b[0m in \u001b[0;36m<module>\u001b[1;34m\u001b[0m\n\u001b[1;32m----> 1\u001b[1;33m \u001b[0md\u001b[0m\u001b[1;33m[\u001b[0m\u001b[1;34m'0'\u001b[0m\u001b[1;33m]\u001b[0m\u001b[1;33m[\u001b[0m\u001b[1;34m'id'\u001b[0m\u001b[1;33m]\u001b[0m\u001b[1;33m\u001b[0m\u001b[1;33m\u001b[0m\u001b[0m\n\u001b[0m",
      "\u001b[1;31mKeyError\u001b[0m: '0'"
     ]
    }
   ],
   "source": [
    "d['0']['id']"
   ]
  },
  {
   "cell_type": "code",
   "execution_count": 905,
   "metadata": {},
   "outputs": [
    {
     "data": {
      "text/plain": [
       "{'{\"id\":\"27959026\",\"title\":\"RadheRadhe\",\"index\":0,\"source\":10,\"source_id\":\"27959026\",\"content_source\":1,\"path\":\"\",\"objtype\":10,\"trackcount\":0,\"track_ids\":null,\"object_type\":10,\"status\":\"0\",\"share_url\":\"\\\\/song\\\\/radhe-radhe-86\",\"albumartwork_large\":\"https:\\\\/\\\\/a10.gaanacdn.com\\\\/images\\\\/song\\\\/26\\\\/27959026\\\\/crop_80x80_1565780403.jpg\",\"albumartwork\":\"https:\\\\/\\\\/a10.gaanacdn.com\\\\/images\\\\/song\\\\/26\\\\/27959026\\\\/crop_80x80_1565780403.jpg\",\"premium_content\":\"0\",\"albumtitle\":\"Dream Girl\",\"albumseokey\":\"dream-girl-hindi-1\",\"parental_warning\":0,\"artist\":\"Meet Bros.###8856###meet-bros,Amit Gupta###141089###amit-gupta\",\"seokey\":\"radhe-radhe-86\",\"language\":\"Hindi\",\"isSponsored\":0,\"isAv_ad\":0,\"duration\":\"211\"}': {}}"
      ]
     },
     "execution_count": 905,
     "metadata": {},
     "output_type": "execute_result"
    }
   ],
   "source": [
    "d"
   ]
  },
  {
   "cell_type": "code",
   "execution_count": 768,
   "metadata": {},
   "outputs": [
    {
     "data": {
      "text/plain": [
       "0                                         Segmentation\n",
       "1    {\"id\":\"27959026\",\"title\":\"RadheRadhe\",\"index\":...\n",
       "Name: Segmentation, dtype: object"
      ]
     },
     "execution_count": 768,
     "metadata": {},
     "output_type": "execute_result"
    }
   ],
   "source": [
    "df1['Segmentation']"
   ]
  },
  {
   "cell_type": "code",
   "execution_count": 589,
   "metadata": {},
   "outputs": [],
   "source": [
    "#for id in json_data:\n",
    " #   print(json_data[id])"
   ]
  },
  {
   "cell_type": "code",
   "execution_count": 495,
   "metadata": {},
   "outputs": [
    {
     "ename": "TypeError",
     "evalue": "string indices must be integers",
     "output_type": "error",
     "traceback": [
      "\u001b[1;31m---------------------------------------------------------------------------\u001b[0m",
      "\u001b[1;31mTypeError\u001b[0m                                 Traceback (most recent call last)",
      "\u001b[1;32m<ipython-input-495-da9212447d5a>\u001b[0m in \u001b[0;36m<module>\u001b[1;34m\u001b[0m\n\u001b[1;32m----> 1\u001b[1;33m \u001b[1;32mfor\u001b[0m \u001b[0mi\u001b[0m \u001b[1;32min\u001b[0m \u001b[0md\u001b[0m\u001b[1;33m[\u001b[0m\u001b[1;34m'0'\u001b[0m\u001b[1;33m]\u001b[0m\u001b[1;33m[\u001b[0m\u001b[1;34m'id'\u001b[0m\u001b[1;33m]\u001b[0m\u001b[1;33m:\u001b[0m\u001b[1;33m\u001b[0m\u001b[1;33m\u001b[0m\u001b[0m\n\u001b[0m\u001b[0;32m      2\u001b[0m         \u001b[0mprint\u001b[0m\u001b[1;33m(\u001b[0m\u001b[0mi\u001b[0m\u001b[1;33m)\u001b[0m\u001b[1;33m\u001b[0m\u001b[1;33m\u001b[0m\u001b[0m\n",
      "\u001b[1;31mTypeError\u001b[0m: string indices must be integers"
     ]
    }
   ],
   "source": [
    "for i in d['0']['id']:\n",
    "        print(i)"
   ]
  },
  {
   "cell_type": "code",
   "execution_count": 494,
   "metadata": {},
   "outputs": [
    {
     "ename": "TypeError",
     "evalue": "string indices must be integers",
     "output_type": "error",
     "traceback": [
      "\u001b[1;31m---------------------------------------------------------------------------\u001b[0m",
      "\u001b[1;31mTypeError\u001b[0m                                 Traceback (most recent call last)",
      "\u001b[1;32m<ipython-input-494-ab37eea02198>\u001b[0m in \u001b[0;36m<module>\u001b[1;34m\u001b[0m\n\u001b[1;32m----> 1\u001b[1;33m \u001b[0md\u001b[0m\u001b[1;33m[\u001b[0m\u001b[1;34m'1'\u001b[0m\u001b[1;33m]\u001b[0m\u001b[1;33m[\u001b[0m\u001b[1;34m'1'\u001b[0m\u001b[1;33m]\u001b[0m\u001b[1;33m\u001b[0m\u001b[1;33m\u001b[0m\u001b[0m\n\u001b[0m",
      "\u001b[1;31mTypeError\u001b[0m: string indices must be integers"
     ]
    }
   ],
   "source": [
    "d['1']['1'] "
   ]
  },
  {
   "cell_type": "code",
   "execution_count": 466,
   "metadata": {},
   "outputs": [
    {
     "data": {
      "text/plain": [
       "dict_keys(['0', '1', '2', '3', '4', '5', '6', '7', '8', '9', '10', '11', '12', '13', '14', '15', '16', '17', '18', '19', '20', '21', '22', '23', '24', '25', '26'])"
      ]
     },
     "execution_count": 466,
     "metadata": {},
     "output_type": "execute_result"
    }
   ],
   "source": [
    "d.keys()"
   ]
  },
  {
   "cell_type": "code",
   "execution_count": 475,
   "metadata": {},
   "outputs": [
    {
     "ename": "TypeError",
     "evalue": "string indices must be integers",
     "output_type": "error",
     "traceback": [
      "\u001b[1;31m---------------------------------------------------------------------------\u001b[0m",
      "\u001b[1;31mTypeError\u001b[0m                                 Traceback (most recent call last)",
      "\u001b[1;32m<ipython-input-475-daee28b90d3c>\u001b[0m in \u001b[0;36m<module>\u001b[1;34m\u001b[0m\n\u001b[0;32m      1\u001b[0m \u001b[1;32mfor\u001b[0m \u001b[0mi\u001b[0m \u001b[1;32min\u001b[0m \u001b[0md\u001b[0m\u001b[1;33m:\u001b[0m\u001b[1;33m\u001b[0m\u001b[1;33m\u001b[0m\u001b[0m\n\u001b[1;32m----> 2\u001b[1;33m          \u001b[0mprint\u001b[0m\u001b[1;33m(\u001b[0m\u001b[0md\u001b[0m\u001b[1;33m[\u001b[0m\u001b[0mi\u001b[0m\u001b[1;33m]\u001b[0m\u001b[1;33m[\u001b[0m\u001b[1;34m'title'\u001b[0m\u001b[1;33m]\u001b[0m\u001b[1;33m)\u001b[0m\u001b[1;33m\u001b[0m\u001b[1;33m\u001b[0m\u001b[0m\n\u001b[0m\u001b[0;32m      3\u001b[0m \u001b[1;33m\u001b[0m\u001b[0m\n",
      "\u001b[1;31mTypeError\u001b[0m: string indices must be integers"
     ]
    }
   ],
   "source": [
    "for i in d:\n",
    "         print(d[i]['title'])   \n",
    "   "
   ]
  },
  {
   "cell_type": "code",
   "execution_count": 451,
   "metadata": {},
   "outputs": [
    {
     "ename": "TypeError",
     "evalue": "string indices must be integers",
     "output_type": "error",
     "traceback": [
      "\u001b[1;31m---------------------------------------------------------------------------\u001b[0m",
      "\u001b[1;31mTypeError\u001b[0m                                 Traceback (most recent call last)",
      "\u001b[1;32m<ipython-input-451-44185fa5eb54>\u001b[0m in \u001b[0;36m<module>\u001b[1;34m\u001b[0m\n\u001b[1;32m----> 1\u001b[1;33m \u001b[0md\u001b[0m\u001b[1;33m[\u001b[0m\u001b[1;34m'1'\u001b[0m\u001b[1;33m]\u001b[0m\u001b[1;33m[\u001b[0m\u001b[1;34m'id'\u001b[0m\u001b[1;33m]\u001b[0m\u001b[1;33m\u001b[0m\u001b[1;33m\u001b[0m\u001b[0m\n\u001b[0m",
      "\u001b[1;31mTypeError\u001b[0m: string indices must be integers"
     ]
    }
   ],
   "source": [
    "d['1']['id']"
   ]
  },
  {
   "cell_type": "code",
   "execution_count": 419,
   "metadata": {},
   "outputs": [],
   "source": [
    "d1={}"
   ]
  },
  {
   "cell_type": "code",
   "execution_count": 416,
   "metadata": {},
   "outputs": [
    {
     "data": {
      "text/plain": [
       "dict_values([\"{'id':'27959026','title':'Radhe Radhe','index':0,'source':10,'source_id':'27959026','content_source':1,'path':'','objtype':10,'trackcount':0,'track_ids':null,'object_type':10,'status':'0','share_url':'\\\\/song\\\\/radhe-radhe-86','albumartwork_large':'https:\\\\/\\\\/a10.gaanacdn.com\\\\/images\\\\/song\\\\/26\\\\/27959026\\\\/crop_80x80_1565780403.jpg','albumartwork':'https:\\\\/\\\\/a10.gaanacdn.com\\\\/images\\\\/song\\\\/26\\\\/27959026\\\\/crop_80x80_1565780403.jpg','premium_content':'0','albumtitle':'Dream Girl','albumseokey':'dream-girl-hindi-1','parental_warning':0,'artist':'Meet Bros.###8856###meet-bros,Amit Gupta###141089###amit-gupta','seokey':'radhe-radhe-86','language':'Hindi','isSponsored':0,'isAv_ad':0,'duration':'211'}\", \"{'id':'4148160','title':'International Top 50','index':0,'source':3,'source_id':'4148160','content_source':'','path':'','objtype':3,'trackcount':'27290114,27779961,25658817,27834284,27888734,27378022,26504211,27685097,27685868,27073587,27524425,27539672,27132374,27836929,27248388,25594392,25655055,26137254,25567393,27828260,25830996,27527431,26298191,27636326,25935419,26927155,26192957,25847271,27924326,27226412,25931192,26440723,27685102,25561378,26829204,25673964,25885736,26973629,25915894,27345296,27916019,26756925,27014664,25647209,27778127,27685101,26823696,26948132,27029629,25410934,25475384,27793042,25452934,27695145,27288601,27527432,25718054,27636318,25893642,25452397,27652118,26757112,27685096,26685243,25204567,25282739,27242344,27146625,26293175,26077967,26756914,25899868,27197902,25787406,26450496,26183991,24904004,26979573,27028947,26756920,24692231,24610277,24692228,26139228,25383516,25497267,26953386,26295884,25861215,26948771,26946444,26974455,26168851,26663092,25333611,26452489,26130862,25537297,26623693,26014697,24579413,25783491,26167688,25628712,24775817,25827816,25889509,25785327,26119528,24411887,26103402,24458011,24425719,25842768,25826886,25537212,26038638,24362798,24362529,24335318,25827380,24300254,25861227,25677656,24371352,25399179,25327252,25487666','track_ids':null,'object_type':3,'status':'0','share_url':'\\\\/playlist\\\\/gaana-dj-gaana-international-top-50','albumartwork_large':'https:\\\\/\\\\/a10.gaanacdn.com\\\\/images\\\\/playlists\\\\/60\\\\/4148160\\\\/crop_80x80_1562567847_4148160.jpg','albumartwork':'https:\\\\/\\\\/a10.gaanacdn.com\\\\/images\\\\/playlists\\\\/60\\\\/4148160\\\\/crop_80x80_1562567847_4148160.jpg','premium_content':'0','albumtitle':null,'albumseokey':null,'parental_warning':1,'artist':'','seokey':'gaana-dj-gaana-international-top-50','language':'English','isSponsored':0,'isAv_ad':0,'duration':0}\", \"{'id':'27937882','title':'Prada','index':0,'source':10,'source_id':'27937882','content_source':1,'path':'','objtype':10,'trackcount':0,'track_ids':null,'object_type':10,'status':'0','share_url':'\\\\/song\\\\/prada-23','albumartwork_large':'https:\\\\/\\\\/a10.gaanacdn.com\\\\/images\\\\/albums\\\\/66\\\\/2764066\\\\/crop_80x80_1565363361_2764066.jpg','albumartwork':'https:\\\\/\\\\/a10.gaanacdn.com\\\\/images\\\\/albums\\\\/66\\\\/2764066\\\\/crop_80x80_1565363361_2764066.jpg','premium_content':'0','albumtitle':'Prada','albumseokey':'prada-punjabi-1','parental_warning':0,'artist':'The Doorbeen###895217###the-doorbeen,Shreya Sharma###1301104###shreya-sharma','seokey':'prada-23','language':'Punjabi','isSponsored':0,'isAv_ad':0,'duration':'186'}\", \"{'id':'35275020','title':'Chai Chappa Chai','index':0,'source':3,'source_id':'35275020','content_source':'','path':'','objtype':3,'trackcount':'14723248,23613577,554195,23615827,1945697,224,703963,23619307,703940,17436734,588630,23601300,554556,554175,16267,60877','track_ids':null,'object_type':3,'status':'0','share_url':'\\\\/playlist\\\\/gaana-dj-chai-chappa-chai','albumartwork_large':'https:\\\\/\\\\/a10.gaanacdn.com\\\\/images\\\\/playlists\\\\/20\\\\/35275020\\\\/crop_80x80_1565075411_35275020.jpg','albumartwork':'https:\\\\/\\\\/a10.gaanacdn.com\\\\/images\\\\/playlists\\\\/20\\\\/35275020\\\\/crop_80x80_1565075411_35275020.jpg','premium_content':'0','albumtitle':null,'albumseokey':null,'parental_warning':0,'artist':'','seokey':'gaana-dj-chai-chappa-chai','language':'Hindi','isSponsored':0,'isAv_ad':0,'duration':0}\", \"{'id':'27947286','title':'MLK BLVD','index':0,'source':10,'source_id':'27947286','content_source':1,'path':'','objtype':10,'trackcount':0,'track_ids':null,'object_type':10,'status':'0','share_url':'\\\\/song\\\\/mlk-blvd','albumartwork_large':'https:\\\\/\\\\/a10.gaanacdn.com\\\\/images\\\\/albums\\\\/26\\\\/2765926\\\\/crop_80x80_2765926.jpg','albumartwork':'https:\\\\/\\\\/a10.gaanacdn.com\\\\/images\\\\/albums\\\\/26\\\\/2765926\\\\/crop_80x80_2765926.jpg','premium_content':'0','albumtitle':'MLK BLVD','albumseokey':'mlk-boulevard-english','parental_warning':1,'artist':'Jeezy###12643###jeezy,Meek Mill###127864###meek-mill','seokey':'mlk-blvd','language':'English','isSponsored':0,'isAv_ad':0,'duration':'202'}\", \"{'id':'27909521','title':'Paranda','index':0,'source':10,'source_id':'27909521','content_source':1,'path':'','objtype':10,'trackcount':0,'track_ids':null,'object_type':10,'status':'0','share_url':'\\\\/song\\\\/paranda-39','albumartwork_large':'https:\\\\/\\\\/a10.gaanacdn.com\\\\/images\\\\/albums\\\\/52\\\\/2759252\\\\/crop_80x80_2759252.jpg','albumartwork':'https:\\\\/\\\\/a10.gaanacdn.com\\\\/images\\\\/albums\\\\/52\\\\/2759252\\\\/crop_80x80_2759252.jpg','premium_content':'0','albumtitle':'Paranda','albumseokey':'paranda-punjabi-1','parental_warning':0,'artist':'Himmat Sandhu###1391006###himmat-sandhu','seokey':'paranda-39','language':'Punjabi','isSponsored':0,'isAv_ad':0,'duration':'196'}\", \"{'id':'27922722','title':'Savan','index':0,'source':10,'source_id':'27922722','content_source':1,'path':'','objtype':10,'trackcount':0,'track_ids':null,'object_type':10,'status':'0','share_url':'\\\\/song\\\\/savan-4','albumartwork_large':'https:\\\\/\\\\/a10.gaanacdn.com\\\\/images\\\\/song\\\\/22\\\\/27922722\\\\/crop_80x80_1565180719.jpg','albumartwork':'https:\\\\/\\\\/a10.gaanacdn.com\\\\/images\\\\/song\\\\/22\\\\/27922722\\\\/crop_80x80_1565180719.jpg','premium_content':'0','albumtitle':'Savan','albumseokey':'savan-hindi','parental_warning':0,'artist':'Addy Nagar###1408514###addy-nagar,Kangna Sharma###1282627###kangna-sharma','seokey':'savan-4','language':'Hindi','isSponsored':0,'isAv_ad':0,'duration':'175'}\", \"{'id':'9469863','title':'Latest EDM 2019 - International','index':0,'source':3,'source_id':'9469863','content_source':'','path':'','objtype':3,'trackcount':'27956296,27957884,27892119,27916019,27824593,27834284,27649899,27649933,27649932,27127061,27650327,27646496,27524425,27486880,27260577,27153081,27378086,27475790,27451017,27453176,27347284,27347750,27073587,26138927,27347244,27405646,27146625,27348868,27347523,27084313,26553976,27227286,27227292,27084368,27014726,27011356,26948132,26628570,27248189,26675268,27153084,26757112,26489071,26450496,26451903,27248711,26146397,26145043,26123348,26146431,26183991,25876686,25931192,25888482,25900044,25888479,25901453,25916703,25901233,25900906,25876829,25785328,25826886,25827380,25798517,25628190,25787406,25827816,25783161,25658817,25677656,25648700,25717741,25610513,25655055,25497267,25517174,25572813','track_ids':null,'object_type':3,'status':'0','share_url':'\\\\/playlist\\\\/gaana-dj-latest-edm-2019','albumartwork_large':'https:\\\\/\\\\/a10.gaanacdn.com\\\\/images\\\\/playlists\\\\/63\\\\/9469863\\\\/crop_80x80_1565699124_9469863.jpg','albumartwork':'https:\\\\/\\\\/a10.gaanacdn.com\\\\/images\\\\/playlists\\\\/63\\\\/9469863\\\\/crop_80x80_1565699124_9469863.jpg','premium_content':'0','albumtitle':null,'albumseokey':null,'parental_warning':1,'artist':'','seokey':'gaana-dj-latest-edm-2019','language':'English','isSponsored':0,'isAv_ad':0,'duration':0}\", \"{'id':'2768309','title':'Dream Girl','index':0,'source':2,'source_id':'2768309','content_source':'','path':'','objtype':2,'trackcount':0,'track_ids':null,'object_type':2,'status':'0','share_url':'\\\\/album\\\\/dream-girl-hindi-1','albumartwork_large':'https:\\\\/\\\\/a10.gaanacdn.com\\\\/images\\\\/albums\\\\/9\\\\/2768309\\\\/crop_80x80_1565779955_2768309.jpg','albumartwork':'https:\\\\/\\\\/a10.gaanacdn.com\\\\/images\\\\/albums\\\\/9\\\\/2768309\\\\/crop_80x80_1565779955_2768309.jpg','premium_content':'0','albumtitle':null,'albumseokey':null,'parental_warning':0,'artist':'','seokey':'dream-girl-hindi-1','language':'Hindi','isSponsored':0,'isAv_ad':0,'duration':0}\", \"{'id':'2770000','title':'Won't Be Late','index':0,'source':2,'source_id':'2770000','content_source':'','path':'','objtype':2,'trackcount':0,'track_ids':null,'object_type':2,'status':'0','share_url':'\\\\/album\\\\/wont-be-late','albumartwork_large':'https:\\\\/\\\\/a10.gaanacdn.com\\\\/images\\\\/albums\\\\/0\\\\/2770000\\\\/crop_80x80_2770000.jpg','albumartwork':'https:\\\\/\\\\/a10.gaanacdn.com\\\\/images\\\\/albums\\\\/0\\\\/2770000\\\\/crop_80x80_2770000.jpg','premium_content':'0','albumtitle':null,'albumseokey':null,'parental_warning':0,'artist':'','seokey':'wont-be-late','language':'English','isSponsored':0,'isAv_ad':0,'duration':0}\", \"{'id':'2765984','title':'Smashup With Guru Randhawa','index':0,'source':2,'source_id':'2765984','content_source':'','path':'','objtype':2,'trackcount':0,'track_ids':null,'object_type':2,'status':'0','share_url':'\\\\/album\\\\/smashup-with-guru-randhawa','albumartwork_large':'https:\\\\/\\\\/a10.gaanacdn.com\\\\/images\\\\/albums\\\\/84\\\\/2765984\\\\/crop_80x80_2765984.jpg','albumartwork':'https:\\\\/\\\\/a10.gaanacdn.com\\\\/images\\\\/albums\\\\/84\\\\/2765984\\\\/crop_80x80_2765984.jpg','premium_content':'0','albumtitle':null,'albumseokey':null,'parental_warning':0,'artist':'','seokey':'smashup-with-guru-randhawa','language':'Punjabi','isSponsored':0,'isAv_ad':0,'duration':0}\", \"{'id':'2761194','title':'Savan','index':0,'source':2,'source_id':'2761194','content_source':'','path':'','objtype':2,'trackcount':0,'track_ids':null,'object_type':2,'status':'0','share_url':'\\\\/album\\\\/savan-hindi','albumartwork_large':'https:\\\\/\\\\/a10.gaanacdn.com\\\\/images\\\\/albums\\\\/94\\\\/2761194\\\\/crop_80x80_1565180657_2761194.jpg','albumartwork':'https:\\\\/\\\\/a10.gaanacdn.com\\\\/images\\\\/albums\\\\/94\\\\/2761194\\\\/crop_80x80_1565180657_2761194.jpg','premium_content':'0','albumtitle':null,'albumseokey':null,'parental_warning':0,'artist':'','seokey':'savan-hindi','language':'Hindi','isSponsored':0,'isAv_ad':0,'duration':0}\", \"{'id':'2763783','title':'Rock Witchu','index':0,'source':2,'source_id':'2763783','content_source':'','path':'','objtype':2,'trackcount':0,'track_ids':null,'object_type':2,'status':'0','share_url':'\\\\/album\\\\/rock-witchu','albumartwork_large':'https:\\\\/\\\\/a10.gaanacdn.com\\\\/images\\\\/albums\\\\/83\\\\/2763783\\\\/crop_80x80_2763783.jpg','albumartwork':'https:\\\\/\\\\/a10.gaanacdn.com\\\\/images\\\\/albums\\\\/83\\\\/2763783\\\\/crop_80x80_2763783.jpg','premium_content':'0','albumtitle':null,'albumseokey':null,'parental_warning':0,'artist':'','seokey':'rock-witchu','language':'English','isSponsored':0,'isAv_ad':0,'duration':0}\", \"{'id':'2764066','title':'Prada','index':0,'source':2,'source_id':'2764066','content_source':'','path':'','objtype':2,'trackcount':0,'track_ids':null,'object_type':2,'status':'0','share_url':'\\\\/album\\\\/prada-punjabi-1','albumartwork_large':'https:\\\\/\\\\/a10.gaanacdn.com\\\\/images\\\\/albums\\\\/66\\\\/2764066\\\\/crop_80x80_1565363361_2764066.jpg','albumartwork':'https:\\\\/\\\\/a10.gaanacdn.com\\\\/images\\\\/albums\\\\/66\\\\/2764066\\\\/crop_80x80_1565363361_2764066.jpg','premium_content':'0','albumtitle':null,'albumseokey':null,'parental_warning':0,'artist':'','seokey':'prada-punjabi-1','language':'Punjabi','isSponsored':0,'isAv_ad':0,'duration':0}\", \"{'id':'2705297','title':'Saaho (Hindi)','index':0,'source':2,'source_id':'2705297','content_source':'','path':'','objtype':2,'trackcount':0,'track_ids':null,'object_type':2,'status':'0','share_url':'\\\\/album\\\\/saaho-hindi','albumartwork_large':'https:\\\\/\\\\/a10.gaanacdn.com\\\\/images\\\\/albums\\\\/97\\\\/2705297\\\\/crop_80x80_1564734979_2705297.jpg','albumartwork':'https:\\\\/\\\\/a10.gaanacdn.com\\\\/images\\\\/albums\\\\/97\\\\/2705297\\\\/crop_80x80_1564734979_2705297.jpg','premium_content':'0','albumtitle':null,'albumseokey':null,'parental_warning':0,'artist':'','seokey':'saaho-hindi','language':'Hindi','isSponsored':0,'isAv_ad':0,'duration':0}\", \"{'id':'2769960','title':'Lover','index':0,'source':2,'source_id':'2769960','content_source':'','path':'','objtype':2,'trackcount':0,'track_ids':null,'object_type':2,'status':'0','share_url':'\\\\/album\\\\/lover-english-2019-6','albumartwork_large':'https:\\\\/\\\\/a10.gaanacdn.com\\\\/images\\\\/albums\\\\/60\\\\/2769960\\\\/crop_80x80_2769960.jpg','albumartwork':'https:\\\\/\\\\/a10.gaanacdn.com\\\\/images\\\\/albums\\\\/60\\\\/2769960\\\\/crop_80x80_2769960.jpg','premium_content':'0','albumtitle':null,'albumseokey':null,'parental_warning':0,'artist':'','seokey':'lover-english-2019-6','language':'English','isSponsored':0,'isAv_ad':0,'duration':0}\", \"{'id':'2767204','title':'Eyes On You','index':0,'source':2,'source_id':'2767204','content_source':'','path':'','objtype':2,'trackcount':0,'track_ids':null,'object_type':2,'status':'0','share_url':'\\\\/album\\\\/eyes-on-you-punjabi','albumartwork_large':'https:\\\\/\\\\/a10.gaanacdn.com\\\\/images\\\\/albums\\\\/4\\\\/2767204\\\\/crop_80x80_1565681589_2767204.jpg','albumartwork':'https:\\\\/\\\\/a10.gaanacdn.com\\\\/images\\\\/albums\\\\/4\\\\/2767204\\\\/crop_80x80_1565681589_2767204.jpg','premium_content':'0','albumtitle':null,'albumseokey':null,'parental_warning':0,'artist':'','seokey':'eyes-on-you-punjabi','language':'Punjabi','isSponsored':0,'isAv_ad':0,'duration':0}\", \"{'id':'2744302','title':'Mission Mangal','index':0,'source':2,'source_id':'2744302','content_source':'','path':'','objtype':2,'trackcount':0,'track_ids':null,'object_type':2,'status':'0','share_url':'\\\\/album\\\\/mission-mangal','albumartwork_large':'https:\\\\/\\\\/a10.gaanacdn.com\\\\/images\\\\/albums\\\\/2\\\\/2744302\\\\/crop_80x80_1565855170_2744302.jpg','albumartwork':'https:\\\\/\\\\/a10.gaanacdn.com\\\\/images\\\\/albums\\\\/2\\\\/2744302\\\\/crop_80x80_1565855170_2744302.jpg','premium_content':'0','albumtitle':null,'albumseokey':null,'parental_warning':0,'artist':'','seokey':'mission-mangal','language':'Hindi','isSponsored':0,'isAv_ad':0,'duration':0}\", \"{'id':'28488451','title':'Riyas Retro Season 4','index':0,'source':3,'source_id':'28488451','content_source':'','path':'','objtype':3,'trackcount':'27953573,27910588,27870770,27823718,27768394,27346248,27235261,27072549,27009342,26940455,26771974,26605073,26437593,26274551,26129879,25959093,25919061,25883943,25832307,25780674,25649694,25638080,25577111,25546783,25488181,25434801,25399569,25340817,25270781','track_ids':null,'object_type':3,'status':'0','share_url':'\\\\/playlist\\\\/gaana-dj-riyas-retro-season-4','albumartwork_large':'https:\\\\/\\\\/a10.gaanacdn.com\\\\/images\\\\/playlists\\\\/51\\\\/28488451\\\\/crop_80x80_1565717352_28488451.jpg','albumartwork':'https:\\\\/\\\\/a10.gaanacdn.com\\\\/images\\\\/playlists\\\\/51\\\\/28488451\\\\/crop_80x80_1565717352_28488451.jpg','premium_content':'0','albumtitle':null,'albumseokey':null,'parental_warning':0,'artist':'','seokey':'gaana-dj-riyas-retro-season-4','language':'Hindi','isSponsored':0,'isAv_ad':0,'duration':0}\", \"{'id':'31473030','title':'Gaana Top 10','index':0,'source':3,'source_id':'31473030','content_source':'','path':'','objtype':3,'trackcount':'27944331','track_ids':null,'object_type':3,'status':'0','share_url':'\\\\/playlist\\\\/gaana-dj-gaana-top-10','albumartwork_large':'https:\\\\/\\\\/a10.gaanacdn.com\\\\/images\\\\/playlists\\\\/30\\\\/31473030\\\\/crop_80x80_1565454435_31473030.jpg','albumartwork':'https:\\\\/\\\\/a10.gaanacdn.com\\\\/images\\\\/playlists\\\\/30\\\\/31473030\\\\/crop_80x80_1565454435_31473030.jpg','premium_content':'0','albumtitle':null,'albumseokey':null,'parental_warning':0,'artist':'','seokey':'gaana-dj-gaana-top-10','language':'Hindi','isSponsored':0,'isAv_ad':0,'duration':0}\", \"{'id':'16843267','title':'All Things Music with Sarthak','index':0,'source':3,'source_id':'16843267','content_source':'','path':'','objtype':3,'trackcount':'24406190,24363550,24344317,24324201,24292074,24272388,24245096,24218799,24183306,24151106,24127665,24094492,24064273,24022221,23985091,23968730,23940379,23876340,23839495,23817412,23787573,23739911,23621126,23587635,23566220,23535977,23513139,23483170,23407702,23346793,23297474,23241588,23191903,23175588,23153261,23120803,23093501,23063195,23035713,23015330,22993339','track_ids':null,'object_type':3,'status':'0','share_url':'\\\\/playlist\\\\/gaana-dj-all-things-music-with-sarthak','albumartwork_large':'https:\\\\/\\\\/a10.gaanacdn.com\\\\/images\\\\/playlists\\\\/67\\\\/16843267\\\\/crop_80x80_1557994170_16843267.jpg','albumartwork':'https:\\\\/\\\\/a10.gaanacdn.com\\\\/images\\\\/playlists\\\\/67\\\\/16843267\\\\/crop_80x80_1557994170_16843267.jpg','premium_content':'0','albumtitle':null,'albumseokey':null,'parental_warning':0,'artist':'','seokey':'gaana-dj-all-things-music-with-sarthak','language':'English','isSponsored':0,'isAv_ad':0,'duration':0}\", \"{'id':'34421595','title':'The Comicstaan Podcast','index':0,'source':3,'source_id':'34421595','content_source':'','path':'','objtype':3,'trackcount':'27683039,27683040,27683042,27683043','track_ids':null,'object_type':3,'status':'0','share_url':'\\\\/playlist\\\\/gaana-dj-the-comicstaan-podcast','albumartwork_large':'https:\\\\/\\\\/a10.gaanacdn.com\\\\/images\\\\/playlists\\\\/95\\\\/34421595\\\\/crop_80x80_1562915898_34421595.jpg','albumartwork':'https:\\\\/\\\\/a10.gaanacdn.com\\\\/images\\\\/playlists\\\\/95\\\\/34421595\\\\/crop_80x80_1562915898_34421595.jpg','premium_content':'0','albumtitle':null,'albumseokey':null,'parental_warning':1,'artist':'','seokey':'gaana-dj-the-comicstaan-podcast','language':'Hindi','isSponsored':0,'isAv_ad':0,'duration':0}\", \"{'id':'9223365','title':'Sarthak's Rockumentary Season 2','index':0,'source':3,'source_id':'9223365','content_source':'','path':'','objtype':3,'trackcount':'22653364,22625140,22595757,22567708,22540260,22503526,22483461,22458144,22441058,22419153,22400107,22370811,22348766,22264301,22189820,22054637,21905423,21852531,21827982,21803283,21777279,21704037,21684422,21627220,21597242,21577222,21552816,21534853,21498469,21469741,21439202,21406512,21351783,21349014,21330395,21291629,21271066,21236673,21200056,21175850,21142007,21117370,21093218,21076404,21062591,21040663,21017845','track_ids':null,'object_type':3,'status':'0','share_url':'\\\\/playlist\\\\/gaana-dj-sarthaks-rockumentry-season-2','albumartwork_large':'https:\\\\/\\\\/a10.gaanacdn.com\\\\/images\\\\/playlists\\\\/65\\\\/9223365\\\\/crop_80x80_9223365_1510046762.jpg','albumartwork':'https:\\\\/\\\\/a10.gaanacdn.com\\\\/images\\\\/playlists\\\\/65\\\\/9223365\\\\/crop_80x80_9223365_1510046762.jpg','premium_content':'0','albumtitle':null,'albumseokey':null,'parental_warning':0,'artist':'','seokey':'gaana-dj-sarthaks-rockumentry-season-2','language':'English','isSponsored':0,'isAv_ad':0,'duration':0}\", \"{'id':'20020868','title':'Shuddh Vichaar','index':0,'source':3,'source_id':'20020868','content_source':'','path':'','objtype':3,'trackcount':'27948897,27905296,27853127,27819548,27757180,27614301,27452487,27344105,27214360,27001028,26922447,26749450,26577532,26422500,26259877,26111337,25953717,25913901,25876771,25830074,25751541,25638106,25628278,25576076,25544340,25433890,25396322,25340221,25270048,25201780,25089177,24998897,24787706,24691214,24629186,24598918,24566634,24533133,24447187,24404758,24362158,24343482,24322155,24292070,24271476,24242852,24217378,24180146,24150071,24126384,24091471,24062259,24021514,23982884,23962528,23936709,23861969,23837659,23816427,23785050,23721810,23615354,23586437','track_ids':null,'object_type':3,'status':'0','share_url':'\\\\/playlist\\\\/gaana-dj-shuddh-vichaar','albumartwork_large':'https:\\\\/\\\\/a10.gaanacdn.com\\\\/images\\\\/playlists\\\\/68\\\\/20020868\\\\/crop_80x80_1565609503_20020868.jpg','albumartwork':'https:\\\\/\\\\/a10.gaanacdn.com\\\\/images\\\\/playlists\\\\/68\\\\/20020868\\\\/crop_80x80_1565609503_20020868.jpg','premium_content':'0','albumtitle':null,'albumseokey':null,'parental_warning':0,'artist':'','seokey':'gaana-dj-shuddh-vichaar','language':'Hindi','isSponsored':0,'isAv_ad':0,'duration':0}\", \"{'id':'7308321','title':'Classic Showcase With Paran','index':0,'source':3,'source_id':'7308321','content_source':'','path':'','objtype':3,'trackcount':'22354768,22331114,22206470,22108328,21945608,21859116,21837340,21808087,21781364,21719449,21675176,21640047,21599117,21579297,21577092,21538835,21507569,21471835,21443580,21421553,21384736,21350078,21336122,21293348,21309624,21242624,21207372,21179366,21142411,21121650,21094729,21087881,21067888,21044517,21023367,20991376,20973845,20928867,20871719,20809636,20768240,20744630,20665026,20633968,20605945,20570560,20040487,19556519,19517961,19483983,19454194,19421157','track_ids':null,'object_type':3,'status':'0','share_url':'\\\\/playlist\\\\/gaana-dj-classic-paran-1','albumartwork_large':'https:\\\\/\\\\/a10.gaanacdn.com\\\\/images\\\\/playlists\\\\/21\\\\/7308321\\\\/crop_80x80_7308321_1510768532.jpg','albumartwork':'https:\\\\/\\\\/a10.gaanacdn.com\\\\/images\\\\/playlists\\\\/21\\\\/7308321\\\\/crop_80x80_7308321_1510768532.jpg','premium_content':'0','albumtitle':null,'albumseokey':null,'parental_warning':0,'artist':'','seokey':'gaana-dj-classic-paran-1','language':'English','isSponsored':0,'isAv_ad':0,'duration':0}\", \"{'id':'33078985','title':'Puliyabaazi Hindi Podcast - season - 1','index':0,'source':3,'source_id':'33078985','content_source':'','path':'','objtype':3,'trackcount':'26965738,26965737,26965736,26965735,26965734,26965733,26965732,26965731,26965730,26965729,26965728,26965727,26965726,26965725,26965724,26965723,26965722,26965721,26965720,26965719,26965718,26965717,26965716,26965715,26965714,26965713,26965712,26965711,26965710,26965709,26965708,26965707,26965706,26965705,26965704,26965703,26965702,27279065,27279064,27470278,27677010,27841120,27931912','track_ids':null,'object_type':3,'status':'0','share_url':'\\\\/playlist\\\\/gaana-dj-puliyabaazi-hindi-podcast-season-','albumartwork_large':'https:\\\\/\\\\/a10.gaanacdn.com\\\\/images\\\\/playlists\\\\/85\\\\/33078985\\\\/crop_80x80_1565926451_33078985.jpg','albumartwork':'https:\\\\/\\\\/a10.gaanacdn.com\\\\/images\\\\/playlists\\\\/85\\\\/33078985\\\\/crop_80x80_1565926451_33078985.jpg','premium_content':'0','albumtitle':null,'albumseokey':null,'parental_warning':0,'artist':'','seokey':'gaana-dj-puliyabaazi-hindi-podcast-season-','language':'Hindi','isSponsored':0,'isAv_ad':0,'duration':0}\", \"{'id':'6060496','title':'Sarthak's Rockumentary','index':0,'source':3,'source_id':'6060496','content_source':'','path':'','objtype':3,'trackcount':'20767475,20737676,20657135,20625989,20597418,20550154,19923547,19551716,19515057,19482354,19439199,19419186,19396708,18366912,18107959,18067293,18041773,17992739,17961190,17932745,17889781,17851332,17794404,17765744,17713240,17688777,17630909,17523311','track_ids':null,'object_type':3,'status':'0','share_url':'\\\\/playlist\\\\/gaana-dj-the-gaana-rockumentary-with-sarthak','albumartwork_large':'https:\\\\/\\\\/a10.gaanacdn.com\\\\/images\\\\/playlists\\\\/96\\\\/6060496\\\\/crop_80x80_6060496_1510768627.jpg','albumartwork':'https:\\\\/\\\\/a10.gaanacdn.com\\\\/images\\\\/playlists\\\\/96\\\\/6060496\\\\/crop_80x80_6060496_1510768627.jpg','premium_content':'0','albumtitle':null,'albumseokey':null,'parental_warning':0,'artist':'','seokey':'gaana-dj-the-gaana-rockumentary-with-sarthak','language':'English','isSponsored':0,'isAv_ad':0,'duration':0}\"])"
      ]
     },
     "execution_count": 416,
     "metadata": {},
     "output_type": "execute_result"
    }
   ],
   "source": [
    "d.values()"
   ]
  },
  {
   "cell_type": "code",
   "execution_count": 431,
   "metadata": {},
   "outputs": [],
   "source": [
    "dfObj = pd.DataFrame(d,index=[0]) "
   ]
  },
  {
   "cell_type": "code",
   "execution_count": 432,
   "metadata": {},
   "outputs": [
    {
     "data": {
      "text/html": [
       "<div>\n",
       "<style scoped>\n",
       "    .dataframe tbody tr th:only-of-type {\n",
       "        vertical-align: middle;\n",
       "    }\n",
       "\n",
       "    .dataframe tbody tr th {\n",
       "        vertical-align: top;\n",
       "    }\n",
       "\n",
       "    .dataframe thead th {\n",
       "        text-align: right;\n",
       "    }\n",
       "</style>\n",
       "<table border=\"1\" class=\"dataframe\">\n",
       "  <thead>\n",
       "    <tr style=\"text-align: right;\">\n",
       "      <th></th>\n",
       "      <th>0</th>\n",
       "      <th>1</th>\n",
       "      <th>2</th>\n",
       "      <th>3</th>\n",
       "      <th>4</th>\n",
       "      <th>5</th>\n",
       "      <th>6</th>\n",
       "      <th>7</th>\n",
       "      <th>8</th>\n",
       "      <th>9</th>\n",
       "      <th>...</th>\n",
       "      <th>17</th>\n",
       "      <th>18</th>\n",
       "      <th>19</th>\n",
       "      <th>20</th>\n",
       "      <th>21</th>\n",
       "      <th>22</th>\n",
       "      <th>23</th>\n",
       "      <th>24</th>\n",
       "      <th>25</th>\n",
       "      <th>26</th>\n",
       "    </tr>\n",
       "  </thead>\n",
       "  <tbody>\n",
       "    <tr>\n",
       "      <th>0</th>\n",
       "      <td>{'id':'27959026','title':'Radhe Radhe','index'...</td>\n",
       "      <td>{'id':'4148160','title':'International Top 50'...</td>\n",
       "      <td>{'id':'27937882','title':'Prada','index':0,'so...</td>\n",
       "      <td>{'id':'35275020','title':'Chai Chappa Chai','i...</td>\n",
       "      <td>{'id':'27947286','title':'MLK BLVD','index':0,...</td>\n",
       "      <td>{'id':'27909521','title':'Paranda','index':0,'...</td>\n",
       "      <td>{'id':'27922722','title':'Savan','index':0,'so...</td>\n",
       "      <td>{'id':'9469863','title':'Latest EDM 2019 - Int...</td>\n",
       "      <td>{'id':'2768309','title':'Dream Girl','index':0...</td>\n",
       "      <td>{'id':'2770000','title':'Won't Be Late','index...</td>\n",
       "      <td>...</td>\n",
       "      <td>{'id':'2744302','title':'Mission Mangal','inde...</td>\n",
       "      <td>{'id':'28488451','title':'Riyas Retro Season 4...</td>\n",
       "      <td>{'id':'31473030','title':'Gaana Top 10','index...</td>\n",
       "      <td>{'id':'16843267','title':'All Things Music wit...</td>\n",
       "      <td>{'id':'34421595','title':'The Comicstaan Podca...</td>\n",
       "      <td>{'id':'9223365','title':'Sarthak's Rockumentar...</td>\n",
       "      <td>{'id':'20020868','title':'Shuddh Vichaar','ind...</td>\n",
       "      <td>{'id':'7308321','title':'Classic Showcase With...</td>\n",
       "      <td>{'id':'33078985','title':'Puliyabaazi Hindi Po...</td>\n",
       "      <td>{'id':'6060496','title':'Sarthak's Rockumentar...</td>\n",
       "    </tr>\n",
       "  </tbody>\n",
       "</table>\n",
       "<p>1 rows × 27 columns</p>\n",
       "</div>"
      ],
      "text/plain": [
       "                                                   0  \\\n",
       "0  {'id':'27959026','title':'Radhe Radhe','index'...   \n",
       "\n",
       "                                                   1  \\\n",
       "0  {'id':'4148160','title':'International Top 50'...   \n",
       "\n",
       "                                                   2  \\\n",
       "0  {'id':'27937882','title':'Prada','index':0,'so...   \n",
       "\n",
       "                                                   3  \\\n",
       "0  {'id':'35275020','title':'Chai Chappa Chai','i...   \n",
       "\n",
       "                                                   4  \\\n",
       "0  {'id':'27947286','title':'MLK BLVD','index':0,...   \n",
       "\n",
       "                                                   5  \\\n",
       "0  {'id':'27909521','title':'Paranda','index':0,'...   \n",
       "\n",
       "                                                   6  \\\n",
       "0  {'id':'27922722','title':'Savan','index':0,'so...   \n",
       "\n",
       "                                                   7  \\\n",
       "0  {'id':'9469863','title':'Latest EDM 2019 - Int...   \n",
       "\n",
       "                                                   8  \\\n",
       "0  {'id':'2768309','title':'Dream Girl','index':0...   \n",
       "\n",
       "                                                   9  \\\n",
       "0  {'id':'2770000','title':'Won't Be Late','index...   \n",
       "\n",
       "                         ...                          \\\n",
       "0                        ...                           \n",
       "\n",
       "                                                  17  \\\n",
       "0  {'id':'2744302','title':'Mission Mangal','inde...   \n",
       "\n",
       "                                                  18  \\\n",
       "0  {'id':'28488451','title':'Riyas Retro Season 4...   \n",
       "\n",
       "                                                  19  \\\n",
       "0  {'id':'31473030','title':'Gaana Top 10','index...   \n",
       "\n",
       "                                                  20  \\\n",
       "0  {'id':'16843267','title':'All Things Music wit...   \n",
       "\n",
       "                                                  21  \\\n",
       "0  {'id':'34421595','title':'The Comicstaan Podca...   \n",
       "\n",
       "                                                  22  \\\n",
       "0  {'id':'9223365','title':'Sarthak's Rockumentar...   \n",
       "\n",
       "                                                  23  \\\n",
       "0  {'id':'20020868','title':'Shuddh Vichaar','ind...   \n",
       "\n",
       "                                                  24  \\\n",
       "0  {'id':'7308321','title':'Classic Showcase With...   \n",
       "\n",
       "                                                  25  \\\n",
       "0  {'id':'33078985','title':'Puliyabaazi Hindi Po...   \n",
       "\n",
       "                                                  26  \n",
       "0  {'id':'6060496','title':'Sarthak's Rockumentar...  \n",
       "\n",
       "[1 rows x 27 columns]"
      ]
     },
     "execution_count": 432,
     "metadata": {},
     "output_type": "execute_result"
    }
   ],
   "source": [
    "dfObj.head()"
   ]
  },
  {
   "cell_type": "code",
   "execution_count": 415,
   "metadata": {},
   "outputs": [],
   "source": [
    "#import csv\n",
    "#f = open('C:/Users/Manoj VTION/Desktop/dict.csv','w')\n",
    "#w = csv.DictWriter(f,d.keys())\n",
    "#w.writerow(d)\n",
    "#f.close()"
   ]
  },
  {
   "cell_type": "code",
   "execution_count": 426,
   "metadata": {},
   "outputs": [],
   "source": [
    "d1={}"
   ]
  },
  {
   "cell_type": "code",
   "execution_count": 417,
   "metadata": {},
   "outputs": [
    {
     "data": {
      "text/plain": [
       "dict_keys(['0', '1', '2', '3', '4', '5', '6', '7', '8', '9', '10', '11', '12', '13', '14', '15', '16', '17', '18', '19', '20', '21', '22', '23', '24', '25', '26'])"
      ]
     },
     "execution_count": 417,
     "metadata": {},
     "output_type": "execute_result"
    }
   ],
   "source": [
    "d.keys()"
   ]
  },
  {
   "cell_type": "code",
   "execution_count": 427,
   "metadata": {},
   "outputs": [],
   "source": [
    "df1['Segmentation'] = pd.Series(d1)"
   ]
  },
  {
   "cell_type": "code",
   "execution_count": 428,
   "metadata": {},
   "outputs": [
    {
     "data": {
      "text/plain": [
       "dict_keys([])"
      ]
     },
     "execution_count": 428,
     "metadata": {},
     "output_type": "execute_result"
    }
   ],
   "source": [
    "d1.keys()"
   ]
  },
  {
   "cell_type": "code",
   "execution_count": 429,
   "metadata": {},
   "outputs": [
    {
     "data": {
      "text/plain": [
       "dict_values([])"
      ]
     },
     "execution_count": 429,
     "metadata": {},
     "output_type": "execute_result"
    }
   ],
   "source": [
    "d1.values()"
   ]
  },
  {
   "cell_type": "code",
   "execution_count": 404,
   "metadata": {},
   "outputs": [],
   "source": [
    "#d['1']['title']\n",
    "#type(d)\n",
    "#json.dump(d,f)"
   ]
  },
  {
   "cell_type": "code",
   "execution_count": 405,
   "metadata": {},
   "outputs": [],
   "source": [
    "from openpyxl import load_workbook\n",
    "filepath=(\"C:/Users/Manoj VTION/Desktop/Languagescraped.xlsx\")\n",
    "wb=load_workbook(filepath)\n",
    "sheet=wb.active"
   ]
  },
  {
   "cell_type": "code",
   "execution_count": 366,
   "metadata": {},
   "outputs": [
    {
     "ename": "TypeError",
     "evalue": "string indices must be integers",
     "output_type": "error",
     "traceback": [
      "\u001b[1;31m---------------------------------------------------------------------------\u001b[0m",
      "\u001b[1;31mTypeError\u001b[0m                                 Traceback (most recent call last)",
      "\u001b[1;32m<ipython-input-366-55f0fb4eadf1>\u001b[0m in \u001b[0;36m<module>\u001b[1;34m\u001b[0m\n\u001b[0;32m      1\u001b[0m \u001b[0mi\u001b[0m\u001b[1;33m=\u001b[0m\u001b[1;36m0\u001b[0m\u001b[1;33m\u001b[0m\u001b[1;33m\u001b[0m\u001b[0m\n\u001b[0;32m      2\u001b[0m \u001b[1;32mfor\u001b[0m \u001b[0mi\u001b[0m \u001b[1;32min\u001b[0m \u001b[0md\u001b[0m\u001b[1;33m:\u001b[0m\u001b[1;33m\u001b[0m\u001b[1;33m\u001b[0m\u001b[0m\n\u001b[1;32m----> 3\u001b[1;33m     \u001b[0mprint\u001b[0m\u001b[1;33m(\u001b[0m\u001b[0md\u001b[0m\u001b[1;33m[\u001b[0m\u001b[0mi\u001b[0m\u001b[1;33m]\u001b[0m\u001b[1;33m[\u001b[0m\u001b[1;34m'id'\u001b[0m\u001b[1;33m]\u001b[0m\u001b[1;33m)\u001b[0m\u001b[1;33m\u001b[0m\u001b[1;33m\u001b[0m\u001b[0m\n\u001b[0m\u001b[0;32m      4\u001b[0m     \u001b[1;32mfor\u001b[0m \u001b[0mrow\u001b[0m \u001b[1;32min\u001b[0m \u001b[0md\u001b[0m\u001b[1;33m:\u001b[0m\u001b[1;33m\u001b[0m\u001b[1;33m\u001b[0m\u001b[0m\n\u001b[0;32m      5\u001b[0m         \u001b[0msheet\u001b[0m\u001b[1;33m.\u001b[0m\u001b[0mappend\u001b[0m\u001b[1;33m(\u001b[0m\u001b[1;33m[\u001b[0m\u001b[1;34m'id'\u001b[0m\u001b[1;33m]\u001b[0m\u001b[1;33m)\u001b[0m\u001b[1;33m\u001b[0m\u001b[1;33m\u001b[0m\u001b[0m\n",
      "\u001b[1;31mTypeError\u001b[0m: string indices must be integers"
     ]
    }
   ],
   "source": [
    "i=0\n",
    "for i in d:\n",
    "    print(d[i]['id'])\n",
    "    for row in d:\n",
    "        sheet.append(['id'])\n",
    "wb.save(filepath)  \n",
    "    "
   ]
  },
  {
   "cell_type": "code",
   "execution_count": null,
   "metadata": {},
   "outputs": [],
   "source": []
  },
  {
   "cell_type": "code",
   "execution_count": null,
   "metadata": {},
   "outputs": [],
   "source": []
  }
 ],
 "metadata": {
  "kernelspec": {
   "display_name": "Python 3",
   "language": "python",
   "name": "python3"
  },
  "language_info": {
   "codemirror_mode": {
    "name": "ipython",
    "version": 3
   },
   "file_extension": ".py",
   "mimetype": "text/x-python",
   "name": "python",
   "nbconvert_exporter": "python",
   "pygments_lexer": "ipython3",
   "version": "3.7.1"
  }
 },
 "nbformat": 4,
 "nbformat_minor": 2
}
